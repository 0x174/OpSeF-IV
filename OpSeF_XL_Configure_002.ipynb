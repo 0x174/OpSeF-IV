{
 "cells": [
  {
   "cell_type": "code",
   "execution_count": 1,
   "metadata": {},
   "outputs": [],
   "source": [
    "import pickle\n",
    "import numpy as np"
   ]
  },
  {
   "cell_type": "code",
   "execution_count": 2,
   "metadata": {},
   "outputs": [],
   "source": [
    "import imageio\n",
    "import imgaug as ia\n",
    "import imgaug.augmenters as iaa"
   ]
  },
  {
   "cell_type": "code",
   "execution_count": 3,
   "metadata": {},
   "outputs": [],
   "source": [
    "model_dic = {\"CP_nuclei\":\"Cellpose\",\"CP_cyto\":\"Cellpose\",\n",
    "             \"SD_2D_dsb2018\":\"StarDist\",\"SD_dsb_versatile\":\"StarDist\",\"SD_patho\":\"StarDist\",\n",
    "            \"UNet_CP001\":\"Cellprofiler_UNet\"}"
   ]
  },
  {
   "cell_type": "code",
   "execution_count": 4,
   "metadata": {},
   "outputs": [],
   "source": [
    "folder_structure = [\"00_InputRaw\",\"01_Input\",\"02_SegMasks\",\"03_SegOverlays\",\"04_BasicQuantification\",\n",
    "                    \"05_AdditionalChannel\",\"06_AdditionalMask\",\"07_ClassifiedSegMasks\",\n",
    "                    \"08_ClassifiedSegOverlays\",\"09_ClassifiedQuantification\",\"10_ImportExport\"]"
   ]
  },
  {
   "cell_type": "code",
   "execution_count": 5,
   "metadata": {},
   "outputs": [],
   "source": [
    "seqD = {}"
   ]
  },
  {
   "cell_type": "code",
   "execution_count": 6,
   "metadata": {},
   "outputs": [],
   "source": [
    "seqD[0] = iaa.Sequential([\n",
    "    iaa.Fliplr(1.0),                   # flip image\n",
    "    iaa.Flipud(1.0),                   # flip image \n",
    "    ], random_order=True)"
   ]
  },
  {
   "cell_type": "code",
   "execution_count": 7,
   "metadata": {},
   "outputs": [],
   "source": [
    "seqD[1] = iaa.Sequential([\n",
    "    iaa.Dropout([0.005, 0.02]),      # drop btween 0.5% and 2% of all pixels\n",
    "    iaa.Sharpen((0.0, 1.0)),        # sharpen the image\n",
    "    iaa.Fliplr(1.0),                   # flip image \n",
    "    iaa.ElasticTransformation(alpha=10, sigma=2)  # apply water effect (affects segmaps)\n",
    "    ], random_order=True)"
   ]
  },
  {
   "cell_type": "code",
   "execution_count": 8,
   "metadata": {},
   "outputs": [],
   "source": [
    "seqD[2] = iaa.Sequential([\n",
    "    iaa.Dropout([0.005, 0.02]),      # drop btween 0.5% and 2% of all pixels\n",
    "    iaa.Sharpen((0.0, 1.0)),        # sharpen the image\n",
    "    iaa.Flipud(1.0),                   # flip image \n",
    "    iaa.ElasticTransformation(alpha=50, sigma=5)  # apply water effect (affects segmaps)\n",
    "    ], random_order=True)"
   ]
  },
  {
   "cell_type": "code",
   "execution_count": 9,
   "metadata": {},
   "outputs": [],
   "source": [
    "seqD[3] = iaa.Sequential([\n",
    "    iaa.Dropout([0.005, 0.02]),      # drop btween 0.5% and 2% of all pixels\n",
    "    iaa.GaussianBlur((0.0, 2.0)),    # blur the image\n",
    "    iaa.ElasticTransformation(alpha=20, sigma=3)  # apply water effect (affects segmaps)\n",
    "    ], random_order=True)"
   ]
  },
  {
   "cell_type": "code",
   "execution_count": 10,
   "metadata": {},
   "outputs": [],
   "source": [
    "seqD[4] = iaa.Sequential([\n",
    "    iaa.GaussianBlur((0.0, 2.0)),     # blur the image\n",
    "    iaa.GammaContrast((0.5, 2.0)),    # blur the image\n",
    "    iaa.Fliplr(1.0),                   # flip image \n",
    "    iaa.ElasticTransformation(alpha=20, sigma=3)  # apply water effect (affects segmaps)\n",
    "    ], random_order=True)"
   ]
  },
  {
   "cell_type": "code",
   "execution_count": 11,
   "metadata": {},
   "outputs": [],
   "source": [
    "seqD[5] = iaa.Sequential([\n",
    "    iaa.GaussianBlur((0.0, 2.0)),    # blur the image\n",
    "    iaa.GammaContrast((0.5, 2.0)),   # blur the image\n",
    "    iaa.Flipud(1.0),                   # flip image \n",
    "    iaa.ScaleX((1.0,1.5))            # scale in x (affects segmaps)\n",
    "    ], random_order=True)"
   ]
  },
  {
   "cell_type": "code",
   "execution_count": 12,
   "metadata": {},
   "outputs": [],
   "source": [
    "seqD[6] = iaa.Sequential([\n",
    "    iaa.GaussianBlur((0.0, 2.0)),    # blur the image\n",
    "    iaa.GammaContrast((0.5, 2.0)),   # adjust gamma\n",
    "    iaa.Fliplr(1.0),                # flip image \n",
    "    iaa.ScaleX((1.0,1.5)),           # scale in x (affects segmaps)\n",
    "    iaa.ScaleY((1.0,1.5))            # scale in y (affects segmaps)\n",
    "    ], random_order=True)"
   ]
  },
  {
   "cell_type": "code",
   "execution_count": 13,
   "metadata": {},
   "outputs": [],
   "source": [
    "seqD[7] = iaa.Sequential([\n",
    "    iaa.imgcorruptlike.SpeckleNoise(severity = 1),   # adds speckle noise\n",
    "    iaa.GaussianBlur((0.0, 2.0)),    # blur the image\n",
    "    iaa.GammaContrast((0.5, 2.0)),   # blur the image\n",
    "    iaa.ScaleX((1.0,1.5)),           # scale in x (affects segmaps)\n",
    "    iaa.ScaleY((1.0,1.5))            # scale in y (affects segmaps) \n",
    "    ], random_order=True)"
   ]
  },
  {
   "cell_type": "code",
   "execution_count": 14,
   "metadata": {},
   "outputs": [],
   "source": [
    "parameter_main = [model_dic,folder_structure]\n",
    "parameter_augment = [seqD]"
   ]
  },
  {
   "cell_type": "markdown",
   "metadata": {},
   "source": [
    "## save parameter"
   ]
  },
  {
   "cell_type": "code",
   "execution_count": 15,
   "metadata": {},
   "outputs": [
    {
     "name": "stdout",
     "output_type": "stream",
     "text": [
      "Saving main parameter to.. ./Demo_Notebooks/my_runs/main_settings_xl.pkl\n",
      "Saving augment config parameter to.. ./Train/Augment/my_runs/augment_settings_xl.pkl\n"
     ]
    }
   ],
   "source": [
    "file_name_main = \"./Demo_Notebooks/my_runs/main_settings_xl.pkl\"\n",
    "print(\"Saving main parameter to..\",file_name_main)\n",
    "outfile_main = open(file_name_main,'wb')\n",
    "pickle.dump(parameter_main,outfile_main)\n",
    "outfile_main.close()\n",
    "\n",
    "file_name_augment = \"./Train/Augment/my_runs/augment_settings_xl.pkl\"\n",
    "print(\"Saving augment config parameter to..\",file_name_augment)\n",
    "outfile_aug = open(file_name_augment,'wb')\n",
    "pickle.dump(parameter_augment,outfile_aug)\n",
    "outfile_aug.close()\n",
    "\n"
   ]
  }
 ],
 "metadata": {
  "kernelspec": {
   "display_name": "Python 3",
   "language": "python",
   "name": "python3"
  },
  "language_info": {
   "codemirror_mode": {
    "name": "ipython",
    "version": 3
   },
   "file_extension": ".py",
   "mimetype": "text/x-python",
   "name": "python",
   "nbconvert_exporter": "python",
   "pygments_lexer": "ipython3",
   "version": "3.6.8"
  }
 },
 "nbformat": 4,
 "nbformat_minor": 2
}
