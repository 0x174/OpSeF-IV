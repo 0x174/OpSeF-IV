{
 "cells": [
  {
   "cell_type": "markdown",
   "metadata": {},
   "source": [
    "### Requirements:\n",
    "\n",
    "Tested with opsef003.yml (see attached file)\n",
    "opsef002 + n2v = opsef003\n",
    "\n",
    "on a GeForce RTX 2080 with 8GB RAM\n",
    "on ubuntu/18.04.3 "
   ]
  },
  {
   "cell_type": "markdown",
   "metadata": {},
   "source": [
    "### adaped from:\n",
    "\n",
    "https://github.com/MouseLand/cellpose\n",
    "\n",
    "https://github.com/CellProfiler/CellProfiler\n",
    "\n",
    "https://github.com/mpicbg-csbd/stardist\n",
    "\n",
    "https://github.com/scikit-image/scikit-image\n",
    "\n",
    "https://github.com/VolkerH/unet-nuclei/\n",
    "\n",
    "Thanks to:\n",
    "\n",
    "All developer of the above mentioned repositories. "
   ]
  },
  {
   "cell_type": "code",
   "execution_count": 1,
   "metadata": {},
   "outputs": [
    {
     "name": "stderr",
     "output_type": "stream",
     "text": [
      "\n",
      "Bad key \"text.kerning_factor\" on line 4 in\n",
      "/home/trasse/anaconda3/envs/opsef005h2/lib/python3.6/site-packages/matplotlib/mpl-data/stylelib/_classic_test_patch.mplstyle.\n",
      "You probably need to get an updated matplotlibrc file from\n",
      "https://github.com/matplotlib/matplotlib/blob/v3.1.3/matplotlibrc.template\n",
      "or from the matplotlib source distribution\n"
     ]
    }
   ],
   "source": [
    "# basic libs\n",
    "\n",
    "import os\n",
    "import sys\n",
    "import time\n",
    "import datetime\n",
    "import inspect\n",
    "from glob import glob\n",
    "import shutil\n",
    "\n",
    "import tifffile as tif\n",
    "\n",
    "import cv2 as cv\n",
    "import pandas as pd\n",
    "\n",
    "import numpy as np\n",
    "import matplotlib.pyplot as plt\n",
    "from matplotlib import collections\n",
    "import math\n",
    "\n",
    "import pickle\n",
    "\n",
    "import networkx as nx\n",
    "%matplotlib inline\n",
    "\n",
    "# for lif\n",
    "import readlif\n",
    "from readlif.reader import LifFile\n",
    "\n",
    "# skimage\n",
    "import skimage\n",
    "from skimage import transform, io, filters, measure, morphology,img_as_float  \n",
    "from skimage.color import label2rgb,gray2rgb\n",
    "from skimage.filters import gaussian, rank, threshold_otsu\n",
    "from skimage.io import imread, imsave\n",
    "from skimage.measure import label, regionprops, regionprops_table\n",
    "from skimage.morphology import disk, watershed\n",
    "\n",
    "# scipy\n",
    "from scipy.signal import medfilt\n",
    "from scipy.ndimage import generate_binary_structure, binary_dilation\n",
    "\n",
    "# for cellpose\n",
    "from cellpose import models as cp_models\n",
    "from cellpose import utils as cp_utils\n",
    "from cellpose import plot, transforms\n",
    "from cellpose import plot, transforms\n",
    "import mxnet as mx\n",
    "from cellpose import utils as cp_utils\n",
    "\n",
    "# other\n",
    "import mxnet as mx\n",
    "\n",
    "# for cluster analysis\n",
    "\n",
    "from sklearn.datasets import load_iris\n",
    "from sklearn.decomposition import PCA\n",
    "from sklearn.manifold import TSNE\n",
    "from sklearn.cluster import AgglomerativeClustering"
   ]
  },
  {
   "cell_type": "code",
   "execution_count": 2,
   "metadata": {},
   "outputs": [
    {
     "name": "stderr",
     "output_type": "stream",
     "text": [
      "Using TensorFlow backend.\n",
      "/home/trasse/anaconda3/envs/opsef005h2/lib/python3.6/site-packages/tensorflow/python/framework/dtypes.py:523: FutureWarning: Passing (type, 1) or '1type' as a synonym of type is deprecated; in a future version of numpy, it will be understood as (type, (1,)) / '(1,)type'.\n",
      "  _np_qint8 = np.dtype([(\"qint8\", np.int8, 1)])\n",
      "/home/trasse/anaconda3/envs/opsef005h2/lib/python3.6/site-packages/tensorflow/python/framework/dtypes.py:524: FutureWarning: Passing (type, 1) or '1type' as a synonym of type is deprecated; in a future version of numpy, it will be understood as (type, (1,)) / '(1,)type'.\n",
      "  _np_quint8 = np.dtype([(\"quint8\", np.uint8, 1)])\n",
      "/home/trasse/anaconda3/envs/opsef005h2/lib/python3.6/site-packages/tensorflow/python/framework/dtypes.py:525: FutureWarning: Passing (type, 1) or '1type' as a synonym of type is deprecated; in a future version of numpy, it will be understood as (type, (1,)) / '(1,)type'.\n",
      "  _np_qint16 = np.dtype([(\"qint16\", np.int16, 1)])\n",
      "/home/trasse/anaconda3/envs/opsef005h2/lib/python3.6/site-packages/tensorflow/python/framework/dtypes.py:526: FutureWarning: Passing (type, 1) or '1type' as a synonym of type is deprecated; in a future version of numpy, it will be understood as (type, (1,)) / '(1,)type'.\n",
      "  _np_quint16 = np.dtype([(\"quint16\", np.uint16, 1)])\n",
      "/home/trasse/anaconda3/envs/opsef005h2/lib/python3.6/site-packages/tensorflow/python/framework/dtypes.py:527: FutureWarning: Passing (type, 1) or '1type' as a synonym of type is deprecated; in a future version of numpy, it will be understood as (type, (1,)) / '(1,)type'.\n",
      "  _np_qint32 = np.dtype([(\"qint32\", np.int32, 1)])\n",
      "/home/trasse/anaconda3/envs/opsef005h2/lib/python3.6/site-packages/tensorflow/python/framework/dtypes.py:532: FutureWarning: Passing (type, 1) or '1type' as a synonym of type is deprecated; in a future version of numpy, it will be understood as (type, (1,)) / '(1,)type'.\n",
      "  np_resource = np.dtype([(\"resource\", np.ubyte, 1)])\n"
     ]
    }
   ],
   "source": [
    "main_folder = os.path.dirname(os.path.abspath(inspect.stack()[0][1]))\n",
    "import_path = os.path.join(main_folder,\"Utils_and_Configs\")\n",
    "if import_path not in sys.path:\n",
    "    sys.path.append(import_path)\n",
    "\n",
    "# import from import_path\n",
    "from Tools_002_3D import *\n",
    "from UNet_CP01 import *\n",
    "from Segmentation_Func_08_3E import *\n",
    "from Pre_Post_Process002 import *\n",
    "from N2V_DataGeneratorTR001 import *\n",
    "from opsef_core_003_3E import *"
   ]
  },
  {
   "cell_type": "code",
   "execution_count": 3,
   "metadata": {},
   "outputs": [],
   "source": [
    "# from https://github.com/mpicbg-csbd/stardist / 3_prediction (2D)\n",
    "from __future__ import print_function, unicode_literals, absolute_import, division\n",
    "%config InlineBackend.figure_format = 'retina'\n",
    "from csbdeep.utils import Path, normalize\n",
    "from stardist import random_label_cmap, _draw_polygons\n",
    "from stardist.models import StarDist2D\n",
    "\n",
    "# other\n",
    "import pkg_resources\n",
    "import keras\n",
    "\n",
    "# We import all our dependencies.\n",
    "from n2v.models import N2VConfig, N2V\n",
    "from n2v.utils.n2v_utils import manipulate_val_data\n",
    "# from n2v.internals.N2V_DataGenerator2 import N2V_DataGenerator2"
   ]
  },
  {
   "cell_type": "code",
   "execution_count": 4,
   "metadata": {},
   "outputs": [],
   "source": [
    "#time.sleep(15000)"
   ]
  },
  {
   "cell_type": "markdown",
   "metadata": {},
   "source": [
    "## Load parameter\n",
    "the parameter for processing need to be defined in the notebook.\n",
    "Opsef_Setup_000X\n",
    "this notebook will print in the end a file_path.\n",
    "Please cut and paste it below!"
   ]
  },
  {
   "cell_type": "code",
   "execution_count": 5,
   "metadata": {},
   "outputs": [
    {
     "name": "stdout",
     "output_type": "stream",
     "text": [
      "Loading processing pipeline from ./Demo_Notebooks/my_runs/Parameter_Nuc_Adriana_Check001_Run_010.pkl\n"
     ]
    }
   ],
   "source": [
    "#file_path = \"./Demo_Notebooks/my_runs/Parameter_Lightsheet_Demo_005_Run_000.pkl\"\n",
    "#file_path = \"./Demo_Notebooks/my_runs/Parameter_Lightsheet_Demo_005_Run_004.pkl\"\n",
    "#file_path = \"./Demo_Notebooks/my_runs/Parameter_NucDom2_Run_001.pkl\"\n",
    "#file_path = \"./Demo_Notebooks/my_runs/Parameter_NucDom2D_Run_009.pkl\"\n",
    "#file_path = \"./Demo_Notebooks/my_runs/Parameter_Nuc_ARA_2D_CHECK_Run_001.pkl\"\n",
    "#file_path = \"./Demo_Notebooks/my_runs/Parameter_Nuc_3D_ARA01_Run_004.pkl\"\n",
    "#file_path = \"./Demo_Notebooks/my_runs/Parameter_Nuc_3D_F01_Run_003.pkl\"\n",
    "#file_path = \"./Demo_Notebooks/my_runs/Parameter_Nuc_3D_Neural_Run_002.pkl\"\n",
    "#file_path = \"./Demo_Notebooks/my_runs/Parameter_Nuc_3D_Blast_Run_002.pkl\"\n",
    "#file_path = \"./Demo_Notebooks/my_runs/Parameter_Nuc_Adriana_Check001_Run_007.pkl\"\n",
    "#file_path = \"./Demo_Notebooks/my_runs/Parameter_Nuc_3D_ARA01_Run_006.pkl\"\n",
    "\n",
    "\n",
    "#file_path = \"./Demo_Notebooks/my_runs/Parameter_Nuc_ARA_2DCHECK_Run_001.pkl\"\n",
    "\n",
    "#file_path = \"./Demo_Notebooks/my_runs/Parameter_muscle_XL_pilot_Run_008.pkl\"\n",
    "\n",
    "\n",
    "# redo\n",
    "\n",
    "#file_path = \"./Demo_Notebooks/my_runs/Parameter_Nuc_3D_F01_Run_003.pkl\" # done\n",
    "#file_path = \"./Demo_Notebooks/my_runs/Parameter_Nuc_3D_Neural_Run_002.pkl\" # done\n",
    "#file_path = \"./Demo_Notebooks/my_runs/Parameter_Nuc_3D_Blast_Run_002.pkl\" # done\n",
    "#file_path = \"./Demo_Notebooks/my_runs/Parameter_Nuc_3D_Blast_Run_004.pkl\" # done\n",
    "file_path = \"./Demo_Notebooks/my_runs/Parameter_Nuc_Adriana_Check001_Run_010.pkl\"\n",
    "\n",
    "\n",
    "infile = open(file_path,'rb')\n",
    "parameter = pickle.load(infile)\n",
    "print(\"Loading processing pipeline from\",file_path)\n",
    "infile.close()\n",
    "pc,input_def,run_def,initModelSettings = parameter"
   ]
  },
  {
   "cell_type": "markdown",
   "metadata": {},
   "source": [
    "## Process Images"
   ]
  },
  {
   "cell_type": "code",
   "execution_count": null,
   "metadata": {},
   "outputs": [
    {
     "name": "stdout",
     "output_type": "stream",
     "text": [
      "o\n",
      "define_tif_pipeline\n",
      "['/mnt/ag-microscopy/PreAugmentedDatasets/TestData/AD2/tiff/174_5_1 2_2 Image 9_Ch_00_Z_003_denoised_MaxProj_16.tif', '/mnt/ag-microscopy/PreAugmentedDatasets/TestData/AD2/tiff/174_5_1 FullSection_Ch_00_Z_003_denoised_MaxProj_16.tif', '/mnt/ag-microscopy/PreAugmentedDatasets/TestData/AD2/tiff/174_5_2_1mage 8_Ch_00_Z_003_denoised_MaxProj_16.tif', '/mnt/ag-microscopy/PreAugmentedDatasets/TestData/AD2/tiff/174_7_1 Image 10_Ch_00_Z_003_denoised_MaxProj_16.tif', '/mnt/ag-microscopy/PreAugmentedDatasets/TestData/AD2/tiff/175_4_1_1  Image 17_Ch_00_Z_003_denoised_MaxProj_16.tif', '/mnt/ag-microscopy/PreAugmentedDatasets/TestData/AD2/tiff/175_4_1_2 Image 18_Ch_00_Z_003_denoised_MaxProj_16.tif', '/mnt/ag-microscopy/PreAugmentedDatasets/TestData/AD2/tiff/175_9-2_2 Image 22_Ch_00_Z_003_denoised_MaxProj_16.tif', '/mnt/ag-microscopy/PreAugmentedDatasets/TestData/AD2/tiff/175_9_1_1 Image 19_Ch_00_Z_003_denoised_MaxProj_16.tif', '/mnt/ag-microscopy/PreAugmentedDatasets/TestData/AD2/tiff/175_9_1_2 Image 20_Ch_00_Z_003_denoised_MaxProj_16.tif', '/mnt/ag-microscopy/PreAugmentedDatasets/TestData/AD2/tiff/175_9_2_1 Image 21_Ch_00_Z_003_denoised_MaxProj_16.tif', '/mnt/ag-microscopy/PreAugmentedDatasets/TestData/AD2/tiff/719_3_1 Image 7_Ch_00_Z_003_denoised_MaxProj_16.tif', '/mnt/ag-microscopy/PreAugmentedDatasets/TestData/AD2/tiff/719_3_2 Image 8_Ch_00_Z_003_denoised_MaxProj_16.tif', '/mnt/ag-microscopy/PreAugmentedDatasets/TestData/AD2/tiff/719_5_1 Image 9_Ch_00_Z_003_denoised_MaxProj_16.tif', '/mnt/ag-microscopy/PreAugmentedDatasets/TestData/AD2/tiff/720_2_1 Image 29_Ch_00_Z_003_denoised_MaxProj_16.tif', '/mnt/ag-microscopy/PreAugmentedDatasets/TestData/AD2/tiff/720_2_1 Image 30_Ch_00_Z_003_denoised_MaxProj_16.tif', '/mnt/ag-microscopy/PreAugmentedDatasets/TestData/AD2/tiff/721_6_1_1 Image 23_Ch_00_Z_003_denoised_MaxProj_16.tif', '/mnt/ag-microscopy/PreAugmentedDatasets/TestData/AD2/tiff/721_6_1_2 Image 24_Ch_00_Z_003_denoised_MaxProj_16.tif', '/mnt/ag-microscopy/PreAugmentedDatasets/TestData/AD2/tiff/721_6_1_2 Image 28_Ch_00_Z_003_denoised_MaxProj_16.tif', '/mnt/ag-microscopy/PreAugmentedDatasets/TestData/AD2/tiff/721_6_2_1 Image 27_Ch_00_Z_003_denoised_MaxProj_16.tif', '/mnt/ag-microscopy/PreAugmentedDatasets/TestData/AD2/tiff/721_7_1_1 Image 3_Ch_00_Z_003_denoised_MaxProj_16.tif', '/mnt/ag-microscopy/PreAugmentedDatasets/TestData/AD2/tiff/721_7_1_2 Image 4_Ch_00_Z_003_denoised_MaxProj_16.tif', '/mnt/ag-microscopy/PreAugmentedDatasets/TestData/AD2/tiff/723_3_1_ 2 Image 12_Ch_00_Z_003_denoised_MaxProj_16.tif', '/mnt/ag-microscopy/PreAugmentedDatasets/TestData/AD2/tiff/723_3_1_1  Image 11_Ch_00_Z_003_denoised_MaxProj_16.tif', '/mnt/ag-microscopy/PreAugmentedDatasets/TestData/AD2/tiff/723_3_2_1 Image 13_Ch_00_Z_003_denoised_MaxProj_16.tif', '/mnt/ag-microscopy/PreAugmentedDatasets/TestData/AD2/tiff/723_3_2_2 Image 14_Ch_00_Z_003_denoised_MaxProj_16.tif', '/mnt/ag-microscopy/PreAugmentedDatasets/TestData/AD2/tiff/724_10_1 Image 5_Ch_00_Z_003_denoised_MaxProj_16.tif', '/mnt/ag-microscopy/PreAugmentedDatasets/TestData/AD2/tiff/724_10_2 Image 6_Ch_00_Z_003_denoised_MaxProj_16.tif', '/mnt/ag-microscopy/PreAugmentedDatasets/TestData/AD2/tiff/724_8_1 Image 10_Ch_00_Z_003_denoised_MaxProj_16.tif', '/mnt/ag-microscopy/PreAugmentedDatasets/TestData/AD2/tiff/725_5_1 Image 15_Ch_00_Z_003_denoised_MaxProj_16.tif', '/mnt/ag-microscopy/PreAugmentedDatasets/TestData/AD2/tiff/725_5_2 Image 16_Ch_00_Z_003_denoised_MaxProj_16.tif', '/mnt/ag-microscopy/PreAugmentedDatasets/TestData/AD2/tiff/725_8_1 Image 11_Ch_00_Z_003_denoised_MaxProj_16.tif', '/mnt/ag-microscopy/PreAugmentedDatasets/TestData/AD2/tiff/FullSection_Ch_00_Z_003_denoised_MaxProj_16.tif', '/mnt/ag-microscopy/PreAugmentedDatasets/TestData/AD2/tiff/Image 12_Ch_00_Z_003_denoised_MaxProj_16.tif']\n",
      "Analysing ['/mnt/ag-microscopy/PreAugmentedDatasets/TestData/AD2/tiff/174_5_1 2_2 Image 9_Ch_00_Z_003_denoised_MaxProj_16.tif', '/mnt/ag-microscopy/PreAugmentedDatasets/TestData/AD2/tiff/174_5_1 FullSection_Ch_00_Z_003_denoised_MaxProj_16.tif', '/mnt/ag-microscopy/PreAugmentedDatasets/TestData/AD2/tiff/174_5_2_1mage 8_Ch_00_Z_003_denoised_MaxProj_16.tif', '/mnt/ag-microscopy/PreAugmentedDatasets/TestData/AD2/tiff/174_7_1 Image 10_Ch_00_Z_003_denoised_MaxProj_16.tif', '/mnt/ag-microscopy/PreAugmentedDatasets/TestData/AD2/tiff/175_4_1_1  Image 17_Ch_00_Z_003_denoised_MaxProj_16.tif', '/mnt/ag-microscopy/PreAugmentedDatasets/TestData/AD2/tiff/175_4_1_2 Image 18_Ch_00_Z_003_denoised_MaxProj_16.tif', '/mnt/ag-microscopy/PreAugmentedDatasets/TestData/AD2/tiff/175_9-2_2 Image 22_Ch_00_Z_003_denoised_MaxProj_16.tif', '/mnt/ag-microscopy/PreAugmentedDatasets/TestData/AD2/tiff/175_9_1_1 Image 19_Ch_00_Z_003_denoised_MaxProj_16.tif', '/mnt/ag-microscopy/PreAugmentedDatasets/TestData/AD2/tiff/175_9_1_2 Image 20_Ch_00_Z_003_denoised_MaxProj_16.tif', '/mnt/ag-microscopy/PreAugmentedDatasets/TestData/AD2/tiff/175_9_2_1 Image 21_Ch_00_Z_003_denoised_MaxProj_16.tif', '/mnt/ag-microscopy/PreAugmentedDatasets/TestData/AD2/tiff/719_3_1 Image 7_Ch_00_Z_003_denoised_MaxProj_16.tif', '/mnt/ag-microscopy/PreAugmentedDatasets/TestData/AD2/tiff/719_3_2 Image 8_Ch_00_Z_003_denoised_MaxProj_16.tif', '/mnt/ag-microscopy/PreAugmentedDatasets/TestData/AD2/tiff/719_5_1 Image 9_Ch_00_Z_003_denoised_MaxProj_16.tif', '/mnt/ag-microscopy/PreAugmentedDatasets/TestData/AD2/tiff/720_2_1 Image 29_Ch_00_Z_003_denoised_MaxProj_16.tif', '/mnt/ag-microscopy/PreAugmentedDatasets/TestData/AD2/tiff/720_2_1 Image 30_Ch_00_Z_003_denoised_MaxProj_16.tif', '/mnt/ag-microscopy/PreAugmentedDatasets/TestData/AD2/tiff/721_6_1_1 Image 23_Ch_00_Z_003_denoised_MaxProj_16.tif', '/mnt/ag-microscopy/PreAugmentedDatasets/TestData/AD2/tiff/721_6_1_2 Image 24_Ch_00_Z_003_denoised_MaxProj_16.tif', '/mnt/ag-microscopy/PreAugmentedDatasets/TestData/AD2/tiff/721_6_1_2 Image 28_Ch_00_Z_003_denoised_MaxProj_16.tif', '/mnt/ag-microscopy/PreAugmentedDatasets/TestData/AD2/tiff/721_6_2_1 Image 27_Ch_00_Z_003_denoised_MaxProj_16.tif', '/mnt/ag-microscopy/PreAugmentedDatasets/TestData/AD2/tiff/721_7_1_1 Image 3_Ch_00_Z_003_denoised_MaxProj_16.tif', '/mnt/ag-microscopy/PreAugmentedDatasets/TestData/AD2/tiff/721_7_1_2 Image 4_Ch_00_Z_003_denoised_MaxProj_16.tif', '/mnt/ag-microscopy/PreAugmentedDatasets/TestData/AD2/tiff/723_3_1_ 2 Image 12_Ch_00_Z_003_denoised_MaxProj_16.tif', '/mnt/ag-microscopy/PreAugmentedDatasets/TestData/AD2/tiff/723_3_1_1  Image 11_Ch_00_Z_003_denoised_MaxProj_16.tif', '/mnt/ag-microscopy/PreAugmentedDatasets/TestData/AD2/tiff/723_3_2_1 Image 13_Ch_00_Z_003_denoised_MaxProj_16.tif', '/mnt/ag-microscopy/PreAugmentedDatasets/TestData/AD2/tiff/723_3_2_2 Image 14_Ch_00_Z_003_denoised_MaxProj_16.tif', '/mnt/ag-microscopy/PreAugmentedDatasets/TestData/AD2/tiff/724_10_1 Image 5_Ch_00_Z_003_denoised_MaxProj_16.tif', '/mnt/ag-microscopy/PreAugmentedDatasets/TestData/AD2/tiff/724_10_2 Image 6_Ch_00_Z_003_denoised_MaxProj_16.tif', '/mnt/ag-microscopy/PreAugmentedDatasets/TestData/AD2/tiff/724_8_1 Image 10_Ch_00_Z_003_denoised_MaxProj_16.tif', '/mnt/ag-microscopy/PreAugmentedDatasets/TestData/AD2/tiff/725_5_1 Image 15_Ch_00_Z_003_denoised_MaxProj_16.tif', '/mnt/ag-microscopy/PreAugmentedDatasets/TestData/AD2/tiff/725_5_2 Image 16_Ch_00_Z_003_denoised_MaxProj_16.tif', '/mnt/ag-microscopy/PreAugmentedDatasets/TestData/AD2/tiff/725_8_1 Image 11_Ch_00_Z_003_denoised_MaxProj_16.tif', '/mnt/ag-microscopy/PreAugmentedDatasets/TestData/AD2/tiff/FullSection_Ch_00_Z_003_denoised_MaxProj_16.tif', '/mnt/ag-microscopy/PreAugmentedDatasets/TestData/AD2/tiff/Image 12_Ch_00_Z_003_denoised_MaxProj_16.tif']\n",
      "a\n",
      "b\n",
      "c\n",
      "d\n",
      "Files ['/mnt/ag-microscopy/PreAugmentedDatasets/TestData/AD2/Processed_010/01_Input/Input_000_174_5_1 2_2 Image 9_Ch_00_Z_003_denoised_MaxProj_16.tif', '/mnt/ag-microscopy/PreAugmentedDatasets/TestData/AD2/Processed_010/01_Input/Input_000_174_5_1 FullSection_Ch_00_Z_003_denoised_MaxProj_16.tif', '/mnt/ag-microscopy/PreAugmentedDatasets/TestData/AD2/Processed_010/01_Input/Input_000_174_5_2_1mage 8_Ch_00_Z_003_denoised_MaxProj_16.tif', '/mnt/ag-microscopy/PreAugmentedDatasets/TestData/AD2/Processed_010/01_Input/Input_000_174_7_1 Image 10_Ch_00_Z_003_denoised_MaxProj_16.tif', '/mnt/ag-microscopy/PreAugmentedDatasets/TestData/AD2/Processed_010/01_Input/Input_000_175_4_1_1  Image 17_Ch_00_Z_003_denoised_MaxProj_16.tif', '/mnt/ag-microscopy/PreAugmentedDatasets/TestData/AD2/Processed_010/01_Input/Input_000_175_4_1_2 Image 18_Ch_00_Z_003_denoised_MaxProj_16.tif', '/mnt/ag-microscopy/PreAugmentedDatasets/TestData/AD2/Processed_010/01_Input/Input_000_175_9-2_2 Image 22_Ch_00_Z_003_denoised_MaxProj_16.tif', '/mnt/ag-microscopy/PreAugmentedDatasets/TestData/AD2/Processed_010/01_Input/Input_000_175_9_1_1 Image 19_Ch_00_Z_003_denoised_MaxProj_16.tif', '/mnt/ag-microscopy/PreAugmentedDatasets/TestData/AD2/Processed_010/01_Input/Input_000_175_9_1_2 Image 20_Ch_00_Z_003_denoised_MaxProj_16.tif', '/mnt/ag-microscopy/PreAugmentedDatasets/TestData/AD2/Processed_010/01_Input/Input_000_175_9_2_1 Image 21_Ch_00_Z_003_denoised_MaxProj_16.tif', '/mnt/ag-microscopy/PreAugmentedDatasets/TestData/AD2/Processed_010/01_Input/Input_000_719_3_1 Image 7_Ch_00_Z_003_denoised_MaxProj_16.tif', '/mnt/ag-microscopy/PreAugmentedDatasets/TestData/AD2/Processed_010/01_Input/Input_000_719_3_2 Image 8_Ch_00_Z_003_denoised_MaxProj_16.tif', '/mnt/ag-microscopy/PreAugmentedDatasets/TestData/AD2/Processed_010/01_Input/Input_000_719_5_1 Image 9_Ch_00_Z_003_denoised_MaxProj_16.tif', '/mnt/ag-microscopy/PreAugmentedDatasets/TestData/AD2/Processed_010/01_Input/Input_000_720_2_1 Image 29_Ch_00_Z_003_denoised_MaxProj_16.tif', '/mnt/ag-microscopy/PreAugmentedDatasets/TestData/AD2/Processed_010/01_Input/Input_000_720_2_1 Image 30_Ch_00_Z_003_denoised_MaxProj_16.tif', '/mnt/ag-microscopy/PreAugmentedDatasets/TestData/AD2/Processed_010/01_Input/Input_000_721_6_1_1 Image 23_Ch_00_Z_003_denoised_MaxProj_16.tif', '/mnt/ag-microscopy/PreAugmentedDatasets/TestData/AD2/Processed_010/01_Input/Input_000_721_6_1_2 Image 24_Ch_00_Z_003_denoised_MaxProj_16.tif', '/mnt/ag-microscopy/PreAugmentedDatasets/TestData/AD2/Processed_010/01_Input/Input_000_721_6_1_2 Image 28_Ch_00_Z_003_denoised_MaxProj_16.tif', '/mnt/ag-microscopy/PreAugmentedDatasets/TestData/AD2/Processed_010/01_Input/Input_000_721_6_2_1 Image 27_Ch_00_Z_003_denoised_MaxProj_16.tif', '/mnt/ag-microscopy/PreAugmentedDatasets/TestData/AD2/Processed_010/01_Input/Input_000_721_7_1_1 Image 3_Ch_00_Z_003_denoised_MaxProj_16.tif', '/mnt/ag-microscopy/PreAugmentedDatasets/TestData/AD2/Processed_010/01_Input/Input_000_721_7_1_2 Image 4_Ch_00_Z_003_denoised_MaxProj_16.tif', '/mnt/ag-microscopy/PreAugmentedDatasets/TestData/AD2/Processed_010/01_Input/Input_000_723_3_1_ 2 Image 12_Ch_00_Z_003_denoised_MaxProj_16.tif', '/mnt/ag-microscopy/PreAugmentedDatasets/TestData/AD2/Processed_010/01_Input/Input_000_723_3_1_1  Image 11_Ch_00_Z_003_denoised_MaxProj_16.tif', '/mnt/ag-microscopy/PreAugmentedDatasets/TestData/AD2/Processed_010/01_Input/Input_000_723_3_2_1 Image 13_Ch_00_Z_003_denoised_MaxProj_16.tif', '/mnt/ag-microscopy/PreAugmentedDatasets/TestData/AD2/Processed_010/01_Input/Input_000_723_3_2_2 Image 14_Ch_00_Z_003_denoised_MaxProj_16.tif', '/mnt/ag-microscopy/PreAugmentedDatasets/TestData/AD2/Processed_010/01_Input/Input_000_724_10_1 Image 5_Ch_00_Z_003_denoised_MaxProj_16.tif', '/mnt/ag-microscopy/PreAugmentedDatasets/TestData/AD2/Processed_010/01_Input/Input_000_724_10_2 Image 6_Ch_00_Z_003_denoised_MaxProj_16.tif', '/mnt/ag-microscopy/PreAugmentedDatasets/TestData/AD2/Processed_010/01_Input/Input_000_724_8_1 Image 10_Ch_00_Z_003_denoised_MaxProj_16.tif', '/mnt/ag-microscopy/PreAugmentedDatasets/TestData/AD2/Processed_010/01_Input/Input_000_725_5_1 Image 15_Ch_00_Z_003_denoised_MaxProj_16.tif', '/mnt/ag-microscopy/PreAugmentedDatasets/TestData/AD2/Processed_010/01_Input/Input_000_725_5_2 Image 16_Ch_00_Z_003_denoised_MaxProj_16.tif', '/mnt/ag-microscopy/PreAugmentedDatasets/TestData/AD2/Processed_010/01_Input/Input_000_725_8_1 Image 11_Ch_00_Z_003_denoised_MaxProj_16.tif', '/mnt/ag-microscopy/PreAugmentedDatasets/TestData/AD2/Processed_010/01_Input/Input_000_FullSection_Ch_00_Z_003_denoised_MaxProj_16.tif', '/mnt/ag-microscopy/PreAugmentedDatasets/TestData/AD2/Processed_010/01_Input/Input_000_Image 12_Ch_00_Z_003_denoised_MaxProj_16.tif']\n",
      "run_now StarDist2D\n",
      "Run StarDist2D S2D_dsb_versatile\n",
      "Run_S2D_ StarDist2D\n"
     ]
    },
    {
     "name": "stdout",
     "output_type": "stream",
     "text": [
      "Loading network weights from 'weights_best.h5'.\n",
      "Loading thresholds from 'thresholds.json'.\n",
      "Using default values: prob_thresh=0.479071, nms_thresh=0.3.\n",
      "Model_keys dict_keys(['S2D_dsb_versatile'])\n",
      "Batch 1\n",
      "Running now:  ['Input_000_174_5_1 2_2 Image 9_Ch_00_Z_003_denoised_MaxProj_16.tif']\n",
      "mem save\n",
      "effective: block_size=(4096, 4096), min_overlap=(128, 128), context=(128, 128)\n"
     ]
    },
    {
     "name": "stderr",
     "output_type": "stream",
     "text": [
      "100%|██████████| 112/112 [24:16<00:00, 13.00s/it]\n"
     ]
    },
    {
     "name": "stdout",
     "output_type": "stream",
     "text": [
      "210544\n",
      "masks_done\n",
      "Cells 210544\n",
      "Saving.. /mnt/ag-microscopy/PreAugmentedDatasets/TestData/AD2/Processed_010/02_SegMasks/000_S2D_dsb_versatile_Mask_0_Input_000_174_5_1 2_2 Image 9_Ch_00_Z_003_denoised_MaxProj_16.tif\n",
      "1\n",
      "Batch 1\n",
      "Running now:  ['Input_000_174_5_1 FullSection_Ch_00_Z_003_denoised_MaxProj_16.tif']\n",
      "mem save\n",
      "effective: block_size=(4096, 4096), min_overlap=(128, 128), context=(128, 128)\n"
     ]
    },
    {
     "name": "stderr",
     "output_type": "stream",
     "text": [
      "100%|██████████| 247/247 [1:46:56<00:00, 25.98s/it]\n"
     ]
    },
    {
     "name": "stdout",
     "output_type": "stream",
     "text": [
      "459346\n",
      "masks_done\n",
      "Cells 459346\n",
      "Saving.. /mnt/ag-microscopy/PreAugmentedDatasets/TestData/AD2/Processed_010/02_SegMasks/000_S2D_dsb_versatile_Mask_0_Input_000_174_5_1 FullSection_Ch_00_Z_003_denoised_MaxProj_16.tif\n",
      "2\n",
      "Batch 1\n",
      "Running now:  ['Input_000_174_5_2_1mage 8_Ch_00_Z_003_denoised_MaxProj_16.tif']\n",
      "mem save\n",
      "effective: block_size=(4096, 4096), min_overlap=(128, 128), context=(128, 128)\n"
     ]
    },
    {
     "name": "stderr",
     "output_type": "stream",
     "text": [
      "100%|██████████| 90/90 [19:28<00:00, 12.99s/it]\n"
     ]
    },
    {
     "name": "stdout",
     "output_type": "stream",
     "text": [
      "192331\n",
      "masks_done\n",
      "Cells 192331\n",
      "Saving.. /mnt/ag-microscopy/PreAugmentedDatasets/TestData/AD2/Processed_010/02_SegMasks/000_S2D_dsb_versatile_Mask_0_Input_000_174_5_2_1mage 8_Ch_00_Z_003_denoised_MaxProj_16.tif\n",
      "3\n",
      "Batch 1\n",
      "Running now:  ['Input_000_174_7_1 Image 10_Ch_00_Z_003_denoised_MaxProj_16.tif']\n",
      "mem save\n",
      "effective: block_size=(4096, 4096), min_overlap=(128, 128), context=(128, 128)\n"
     ]
    },
    {
     "name": "stderr",
     "output_type": "stream",
     "text": [
      "100%|██████████| 304/304 [2:43:23<00:00, 32.25s/it]  \n"
     ]
    },
    {
     "name": "stdout",
     "output_type": "stream",
     "text": [
      "527919\n",
      "masks_done\n",
      "Cells 527919\n",
      "Saving.. /mnt/ag-microscopy/PreAugmentedDatasets/TestData/AD2/Processed_010/02_SegMasks/000_S2D_dsb_versatile_Mask_0_Input_000_174_7_1 Image 10_Ch_00_Z_003_denoised_MaxProj_16.tif\n",
      "4\n",
      "Batch 1\n",
      "Running now:  ['Input_000_175_4_1_1  Image 17_Ch_00_Z_003_denoised_MaxProj_16.tif']\n",
      "mem save\n",
      "effective: block_size=(4096, 4096), min_overlap=(128, 128), context=(128, 128)\n"
     ]
    },
    {
     "name": "stderr",
     "output_type": "stream",
     "text": [
      "100%|██████████| 112/112 [27:09<00:00, 14.55s/it]\n"
     ]
    },
    {
     "name": "stdout",
     "output_type": "stream",
     "text": [
      "295386\n",
      "masks_done\n",
      "Cells 295386\n",
      "Saving.. /mnt/ag-microscopy/PreAugmentedDatasets/TestData/AD2/Processed_010/02_SegMasks/000_S2D_dsb_versatile_Mask_0_Input_000_175_4_1_1  Image 17_Ch_00_Z_003_denoised_MaxProj_16.tif\n",
      "5\n",
      "Batch 1\n",
      "Running now:  ['Input_000_175_4_1_2 Image 18_Ch_00_Z_003_denoised_MaxProj_16.tif']\n",
      "mem save\n",
      "effective: block_size=(4096, 4096), min_overlap=(128, 128), context=(128, 128)\n"
     ]
    },
    {
     "name": "stderr",
     "output_type": "stream",
     "text": [
      "100%|██████████| 49/49 [08:41<00:00, 10.65s/it]\n"
     ]
    },
    {
     "name": "stdout",
     "output_type": "stream",
     "text": [
      "136238\n",
      "masks_done\n",
      "Cells 136238\n",
      "Saving.. /mnt/ag-microscopy/PreAugmentedDatasets/TestData/AD2/Processed_010/02_SegMasks/000_S2D_dsb_versatile_Mask_0_Input_000_175_4_1_2 Image 18_Ch_00_Z_003_denoised_MaxProj_16.tif\n",
      "6\n",
      "Batch 1\n",
      "Running now:  ['Input_000_175_9-2_2 Image 22_Ch_00_Z_003_denoised_MaxProj_16.tif']\n",
      "mem save\n",
      "effective: block_size=(4096, 4096), min_overlap=(128, 128), context=(128, 128)\n"
     ]
    },
    {
     "name": "stderr",
     "output_type": "stream",
     "text": [
      " 95%|█████████▍| 129/136 [33:27<01:48, 15.53s/it]"
     ]
    }
   ],
   "source": [
    "################ IMPROVE LATER!! \n",
    "################ these lines bypass all preprocessing for 3D data\n",
    "\n",
    "# process for all\n",
    "    # create subfolder\n",
    "make_folder_structure(pc,input_def,run_def)\n",
    "\n",
    "# make local back_up of parameter file\n",
    "back_up = os.path.join(input_def[\"root\"],\"Processed_{}\".format(run_def[\"run_ID\"]),os.path.split(file_path)[1]) #new\n",
    "shutil.copy(file_path,back_up) # new\n",
    "\n",
    "\n",
    "if input_def[\"seg_type\"] == \"2D\": \n",
    "# process for lif\n",
    "    if input_def[\"input_type\"] == \".lif\":\n",
    "        lifobject,input_def = define_lif_pipeline(input_def)\n",
    "        #preprocess_1_for_lif(lifobject,input_def,pc,run_def)\n",
    "        #preprocess_2_for_lif(lifobject,input_def,pc,run_def)\n",
    "# process for tif\n",
    "    if input_def[\"input_type\"] == \".tif\":\n",
    "        print(\"o\")\n",
    "        fpath_list = define_tif_pipeline(input_def,run_def,pc)\n",
    "        print(\"a\")\n",
    "        if pc[\"export_another_channel\"]: # implement cleaner\n",
    "            fpath_list = [f for f in fpath_list if input_def[\"export_seg_ch\"] in f]\n",
    "        print(\"b\")\n",
    "        #preprocess_1_for_tif(fpath_list,input_def,pc,run_def)\n",
    "        print(\"c\")\n",
    "        #preprocess_2_for_tif(fpath_list,input_def,pc,run_def)\n",
    "\n",
    "if input_def[\"seg_type\"] == \"3D\":\n",
    "    ################ IMPROVE LATER!! \n",
    "    ################ these lines bypass all preprocessing for 3D data\n",
    "    fpath_list = define_tif_pipeline(input_def,run_def,pc)\n",
    "    preprocess_3D_for_tif(fpath_list,input_def,pc,run_def)\n",
    "# Segment\n",
    "start_time = datetime.datetime.now()\n",
    "print(\"d\")\n",
    "segment(input_def,pc,run_def,initModelSettings)\n",
    "end_time = datetime.datetime.now()\n",
    "time_delta = end_time - start_time\n",
    "print(\"The segmentatio took overall:\", time_delta)"
   ]
  },
  {
   "cell_type": "code",
   "execution_count": null,
   "metadata": {},
   "outputs": [],
   "source": [
    "cells = np.max(testimg)"
   ]
  },
  {
   "cell_type": "code",
   "execution_count": null,
   "metadata": {},
   "outputs": [],
   "source": [
    "print(cells)"
   ]
  },
  {
   "cell_type": "code",
   "execution_count": null,
   "metadata": {},
   "outputs": [],
   "source": [
    "print(testimg.shape)"
   ]
  },
  {
   "cell_type": "code",
   "execution_count": null,
   "metadata": {},
   "outputs": [],
   "source": [
    "klkl"
   ]
  },
  {
   "cell_type": "code",
   "execution_count": null,
   "metadata": {},
   "outputs": [],
   "source": [
    "testfn = \"/mnt/ag-microscopy/PreAugmentedDatasets/TestData/AD2/Processed_010/02_SegMasks/000_S2D_dsb_versatile_Mask_0_Input_000_174_5_1 2_2 Image 9_Ch_00_Z_003_denoised_MaxProj_16.tif\""
   ]
  },
  {
   "cell_type": "code",
   "execution_count": null,
   "metadata": {},
   "outputs": [],
   "source": [
    "testimg = tif.imread(testfn)"
   ]
  },
  {
   "cell_type": "code",
   "execution_count": null,
   "metadata": {},
   "outputs": [],
   "source": [
    "model.predict??"
   ]
  },
  {
   "cell_type": "code",
   "execution_count": null,
   "metadata": {},
   "outputs": [],
   "source": [
    "################ IMPROVE LATER!! \n",
    "################ these lines bypass all preprocessing for 3D data\n",
    "\n",
    "# process for all\n",
    "    # create subfolder\n",
    "make_folder_structure(pc,input_def,run_def)\n",
    "\n",
    "# make local back_up of parameter file\n",
    "back_up = os.path.join(input_def[\"root\"],\"Processed_{}\".format(run_def[\"run_ID\"]),os.path.split(file_path)[1]) #new\n",
    "shutil.copy(file_path,back_up) # new\n",
    "\n",
    "\n",
    "if input_def[\"seg_type\"] == \"2D\": \n",
    "# process for lif\n",
    "    if input_def[\"input_type\"] == \".lif\":\n",
    "        lifobject,input_def = define_lif_pipeline(input_def)\n",
    "        preprocess_1_for_lif(lifobject,input_def,pc,run_def)\n",
    "        preprocess_2_for_lif(lifobject,input_def,pc,run_def)\n",
    "# process for tif\n",
    "    if input_def[\"input_type\"] == \".tif\":\n",
    "        print(\"o\")\n",
    "        fpath_list = define_tif_pipeline(input_def,run_def,pc)\n",
    "        print(\"a\")\n",
    "        if pc[\"export_another_channel\"]: # implement cleaner\n",
    "            fpath_list = [f for f in fpath_list if input_def[\"export_seg_ch\"] in f]\n",
    "        print(\"b\")\n",
    "        preprocess_1_for_tif(fpath_list,input_def,pc,run_def)\n",
    "        print(\"c\")\n",
    "        preprocess_2_for_tif(fpath_list,input_def,pc,run_def)\n",
    "\n",
    "if input_def[\"seg_type\"] == \"3D\":\n",
    "    ################ IMPROVE LATER!! \n",
    "    ################ these lines bypass all preprocessing for 3D data\n",
    "    fpath_list = define_tif_pipeline(input_def,run_def,pc)\n",
    "    preprocess_3D_for_tif(fpath_list,input_def,pc,run_def)\n",
    "# Segment\n",
    "start_time = datetime.datetime.now()\n",
    "print(\"d\")\n",
    "segment(input_def,pc,run_def,initModelSettings)\n",
    "end_time = datetime.datetime.now()\n",
    "time_delta = end_time - start_time\n",
    "print(\"The segmentatio took overall:\", time_delta)"
   ]
  },
  {
   "cell_type": "code",
   "execution_count": null,
   "metadata": {},
   "outputs": [],
   "source": [
    "jkjkjkjk"
   ]
  },
  {
   "cell_type": "code",
   "execution_count": null,
   "metadata": {},
   "outputs": [],
   "source": [
    "fn = \"/mnt/ag-microscopy/PreAugmentedDatasets/TestData/AD2/Processed_009/01_Input/Input_000_725_5_1 Image 15_Ch_00_Z_003_denoised_MaxProj_16.tif\""
   ]
  },
  {
   "cell_type": "code",
   "execution_count": null,
   "metadata": {},
   "outputs": [],
   "source": [
    "test = tif.imread(fn)"
   ]
  },
  {
   "cell_type": "code",
   "execution_count": null,
   "metadata": {},
   "outputs": [],
   "source": [
    "test.shape"
   ]
  },
  {
   "cell_type": "code",
   "execution_count": null,
   "metadata": {},
   "outputs": [],
   "source": [
    "test = tif.imread(\"/mnt/ag-microscopy/PreAugmentedDatasets/TestData/AD/Processed_004/02_SegMasks/000_S2D_dsb_versatile_Mask_0_RGBInput_000_175_4_1_2 Image 18_Ch_00_Z_003_denoised_MaxProj_8.tif\")"
   ]
  },
  {
   "cell_type": "code",
   "execution_count": null,
   "metadata": {},
   "outputs": [],
   "source": [
    "ll = np.max(test)\n",
    "ll"
   ]
  },
  {
   "cell_type": "code",
   "execution_count": null,
   "metadata": {},
   "outputs": [],
   "source": [
    "l2 = np.unique(test)"
   ]
  },
  {
   "cell_type": "code",
   "execution_count": null,
   "metadata": {},
   "outputs": [],
   "source": [
    "print(len(l2))"
   ]
  },
  {
   "cell_type": "markdown",
   "metadata": {},
   "source": [
    "## Export annditional channel & Quantify Results"
   ]
  },
  {
   "cell_type": "code",
   "execution_count": null,
   "metadata": {},
   "outputs": [],
   "source": [
    "if pc[\"Export_to_CSV\"]:\n",
    "    all_combined = [] # used for quantifications of more than one intensity channel\n",
    "    # get a list of the masks that were produced by segmentation\n",
    "    mask_files = glob(os.path.join(input_def[\"root\"],\"Processed_{}\".format(run_def[\"run_ID\"]),pc[\"sub_f\"][2])+\"/*.tif\")\n",
    "    mask_to_img_dic, mask_to_8bitimg_dic = make_mask_to_img_dic(mask_files,pc,input_def,run_def,0,pc[\"Intensity_Ch\"])"
   ]
  },
  {
   "cell_type": "code",
   "execution_count": null,
   "metadata": {},
   "outputs": [],
   "source": [
    "if pc[\"toFiji\"]:\n",
    "    if not pc[\"Export_to_CSV\"]:\n",
    "        mask_files = glob(os.path.join(input_def[\"root\"],\"Processed_{}\".format(run_def[\"run_ID\"]),pc[\"sub_f\"][2])+\"/*.tif\")\n",
    "        mask_to_img_dic, mask_to_8bitimg_dic = make_mask_to_img_dic(mask_files,pc,input_def,run_def,0,pc[\"Intensity_Ch\"])\n",
    "    root_plus = os.path.join(input_def[\"root\"],\"Processed_{}\".format(run_def[\"run_ID\"]))\n",
    "    txt_fn = os.path.join(root_plus,pc[\"sub_f\"][10],\"FilePairList_{}_{}.txt\".format(input_def[\"dataset\"],run_def[\"run_ID\"]))\n",
    "    with open(txt_fn,\"w\") as f:\n",
    "        for mask_fn,image_fn in mask_to_8bitimg_dic.items():\n",
    "            f.write(\"{};{}{}\".format(image_fn.replace(root_plus,\"\"),mask_fn.replace(root_plus,\"\"),\"\\n\"))\n",
    "    f.close()"
   ]
  },
  {
   "cell_type": "code",
   "execution_count": null,
   "metadata": {},
   "outputs": [],
   "source": [
    "# export additional channel\n",
    "if pc[\"export_another_channel\"]:\n",
    "    if input_def[\"input_type\"] == \".lif\":\n",
    "        exported_file_list = export_second_channel_for_mask(lifobject,pc,input_def,run_def)\n",
    "    if input_def[\"input_type\"] == \".tif\":\n",
    "        exported_file_list = export_second_channel_for_mask(\"NoneIsTiFF\",pc,input_def,run_def)"
   ]
  },
  {
   "cell_type": "code",
   "execution_count": null,
   "metadata": {},
   "outputs": [],
   "source": [
    "# optional in case segmentation results shall be filtered by a mask:\n",
    "if pc[\"create_filter_mask_from_channel\"]:\n",
    "    # create new masks (by thresolding the additional input) and extract their names\n",
    "    new_mask_fn_list = create_mask_from_add_ch(exported_file_list,input_def[\"root\"],pc[\"sub_f\"],run_def[\"run_ID\"],run_def[\"para_mp\"],run_def)\n",
    "    # make a dic that has the segmentation output mask name as key, the name of the threshold mask as value\n",
    "    if input_def[\"input_type\"] == \".lif\":\n",
    "        pair_dic = make_pair_second_mask_simple(mask_files,new_mask_fn_list)\n",
    "    if input_def[\"input_type\"] == \".tif\":\n",
    "        core_match = [8,10] # use to define how to match filenames\n",
    "        # for documentation see: how_to_define_core_match.txt\n",
    "        # integrate this variable in OpSeF_Setup!!!\n",
    "        pair_dic = make_pair_second_mask_tiff(mask_files,new_mask_fn_list,core_match)\n",
    "    # create new seqmentation masks per class and return a list of file_names\n",
    "    class1_to_img_dic,class2_to_img_dic = split_by_mask(input_def[\"root\"],run_def[\"run_ID\"],pc[\"sub_f\"],pair_dic,mask_to_8bitimg_dic,mask_to_img_dic)"
   ]
  },
  {
   "cell_type": "code",
   "execution_count": null,
   "metadata": {},
   "outputs": [],
   "source": [
    "# print(mask_files)"
   ]
  },
  {
   "cell_type": "code",
   "execution_count": null,
   "metadata": {},
   "outputs": [],
   "source": [
    "if pc[\"toFiji\"]:\n",
    "    if pc[\"create_filter_mask_from_channel\"]:\n",
    "        root_plus = os.path.join(input_def[\"root\"],\"Processed_{}\".format(run_def[\"run_ID\"]))\n",
    "        txt_fn = os.path.join(root_plus,pc[\"sub_f\"][10],\"FilePairList_Classes_{}_{}.txt\".format(input_def[\"dataset\"],run_def[\"run_ID\"]))\n",
    "        img_to_class2_dic = dict((v,k) for k,v in class2_to_img_dic.items()) # invert dic 2\n",
    "        with open(txt_fn,\"w\") as f:\n",
    "            for mask_fn,image_fn in class1_to_img_dic.items():\n",
    "                mask2 = img_to_class2_dic[image_fn] # second seg mask\n",
    "                f.write(\"{};{};{};{}\".format(image_fn.replace(root_plus,\"\"),mask_fn.replace(root_plus,\"\"),mask2.replace(root_plus,\"\"),\"\\n\"))\n",
    "    f.close()"
   ]
  },
  {
   "cell_type": "markdown",
   "metadata": {},
   "source": [
    "## Export results"
   ]
  },
  {
   "cell_type": "code",
   "execution_count": null,
   "metadata": {},
   "outputs": [],
   "source": [
    "# quantify original mask\n",
    "if pc[\"Export_to_CSV\"]:\n",
    "    all_combined.append(results_to_csv(mask_to_img_dic,pc[\"get_property\"],input_def[\"root\"],pc[\"sub_f\"],run_def[\"run_ID\"],4,\"All_Main\",input_def[\"subset\"])) # 4 is the main result folder\n",
    "    if pc[\"plot_head_main\"]:\n",
    "        all_combined[0].head()\n",
    "            \n",
    "if pc[\"create_filter_mask_from_channel\"]:\n",
    "    # quantify class1 masks\n",
    "    results_to_csv(class1_to_img_dic,pc[\"get_property\"],input_def[\"root\"],pc[\"sub_f\"],run_def[\"run_ID\"],9,\"Class00\",input_def[\"post_subset\"]) # 9 is the classified result folder\n",
    "    # quantify class2 masks\n",
    "    results_to_csv(class2_to_img_dic,pc[\"get_property\"],input_def[\"root\"],pc[\"sub_f\"],run_def[\"run_ID\"],9,\"Class01\",input_def[\"post_subset\"]) # 9 is the classified result folder"
   ]
  },
  {
   "cell_type": "code",
   "execution_count": null,
   "metadata": {},
   "outputs": [],
   "source": [
    "if pc[\"Quantify_2ndCh\"]:\n",
    "    mask_to_img_dic, mask_to_8bitimg_dic = make_mask_to_img_dic(mask_files,pc,input_def,run_def,5,pc[\"Intensity_2ndCh\"])\n",
    "    all_combined.append(results_to_csv(mask_to_img_dic,pc[\"get_property\"],input_def[\"root\"],pc[\"sub_f\"],run_def[\"run_ID\"],4,\"All_2nd\",input_def[\"subset\"]))\n",
    "    if pc[\"merge_results\"]:\n",
    "        result_summary = merge_intensity_results(all_combined,input_def,pc[\"sub_f\"],run_def,4)\n",
    "        if pc[\"plot_merged\"]:\n",
    "            result_summary.head()\n",
    "else:\n",
    "    if pc[\"Export_to_CSV\"]:\n",
    "        result_summary = all_combined[0]"
   ]
  },
  {
   "cell_type": "markdown",
   "metadata": {},
   "source": [
    "## AddOn 1: Basic plotting of results"
   ]
  },
  {
   "cell_type": "code",
   "execution_count": null,
   "metadata": {},
   "outputs": [],
   "source": [
    "if pc[\"Plot_Results\"]:\n",
    "    fig, axs = plt.subplots(len(pc[\"Plot_xy\"]), 1, figsize=(5, 5*len(pc[\"Plot_xy\"])), constrained_layout=True)\n",
    "    for i in range(0,len(pc[\"Plot_xy\"])):\n",
    "        axs[i].scatter(result_summary[pc[\"Plot_xy\"][i][0]],result_summary[pc[\"Plot_xy\"][i][1]], c=\"red\")\n",
    "        axs[i].set_title('{} vs {}'.format(*pc[\"Plot_xy\"][i]))\n",
    "        axs[i].set_xlabel(pc[\"Plot_xy\"][i][0],fontsize=15)\n",
    "        axs[i].set_ylabel(pc[\"Plot_xy\"][i][1],fontsize=15)"
   ]
  },
  {
   "cell_type": "markdown",
   "metadata": {},
   "source": [
    "## AddOn 2: Do PCA and TSNE"
   ]
  },
  {
   "cell_type": "markdown",
   "metadata": {},
   "source": [
    "### Example pipeline auto-clustering"
   ]
  },
  {
   "cell_type": "code",
   "execution_count": null,
   "metadata": {},
   "outputs": [],
   "source": [
    "if pc[\"Cluster_How\"] == \"Auto\":\n",
    "# get data for PCA / TSNE\n",
    "    df_for_tsne_list = extract_values_for_TSNE_PCA(input_def[\"root\"],run_def[\"run_ID\"],pc[\"sub_f\"],4,pc[\"include_in_tsne\"])\n",
    "# get cluster\n",
    "    data = df_for_tsne_list[0].values\n",
    "    auto_clustering = AgglomerativeClustering(linkage=pc[\"link_method\"], n_clusters=pc[\"cluster_expected\"]).fit(data)\n",
    "# do analysis\n",
    "    result_tsne = TSNE(learning_rate=pc[\"tSNE_learning_rate\"]).fit_transform(data)\n",
    "    result_pca = PCA().fit_transform(data)\n",
    "# display results\n",
    "    fig, axs = plt.subplots(2, 1, figsize=(10, 20), constrained_layout=True)\n",
    "    axs[0].scatter(result_tsne[:, 0], result_tsne[:, 1], c=auto_clustering.labels_)\n",
    "    axs[0].set_title('tSNE')\n",
    "    axs[1].scatter(result_pca[:, 0], result_pca[:, 1], c=auto_clustering.labels_)\n",
    "    axs[1].set_title('PCA')    "
   ]
  },
  {
   "cell_type": "markdown",
   "metadata": {},
   "source": [
    "### Example pipeline mask-clustering"
   ]
  },
  {
   "cell_type": "code",
   "execution_count": null,
   "metadata": {
    "scrolled": true
   },
   "outputs": [],
   "source": [
    "# get data for PCA / TSNE\n",
    "if pc[\"Cluster_How\"] == \"Mask\":\n",
    "    df_for_tsne_list_by_class = extract_values_for_TSNE_PCA(input_def[\"root\"],run_def[\"run_ID\"],pc[\"sub_f\"],9,pc[\"include_in_tsne\"])\n",
    "    fused_df = pd.concat(df_for_tsne_list_by_class,axis = 0,join=\"outer\")\n",
    "    data_by_class = fused_df.values\n",
    "    class_def_by_mask = [0 for x in range (0,df_for_tsne_list_by_class[0].shape[0])] + [1 for x in range (0,df_for_tsne_list_by_class[1].shape[0])]\n",
    "# do analysis\n",
    "    result_tsne_by_class = TSNE(learning_rate=pc[\"tSNE_learning_rate\"]).fit_transform(data_by_class)\n",
    "    result_pca_by_class = PCA().fit_transform(data_by_class)\n",
    "# display results\n",
    "    fig, axs = plt.subplots(2, 1, figsize=(10, 20), constrained_layout=True)\n",
    "    axs[0].scatter(result_tsne_by_class[:, 0], result_tsne_by_class[:, 1], c=class_def_by_mask)\n",
    "    axs[0].set_title('tSNE')\n",
    "    axs[1].scatter(result_pca_by_class[:, 0], result_pca_by_class[:, 1], c=class_def_by_mask)\n",
    "    axs[1].set_title('PCA')"
   ]
  },
  {
   "cell_type": "markdown",
   "metadata": {},
   "source": [
    "## Results"
   ]
  },
  {
   "cell_type": "code",
   "execution_count": null,
   "metadata": {},
   "outputs": [],
   "source": [
    "print(\"Processing completed sucessfully !\\n\")\n",
    "print(\"All results have been saved in this folder: \\n\")\n",
    "print(os.path.join(input_def[\"root\"],\"Processed_{}\".format(run_def[\"run_ID\"])))"
   ]
  },
  {
   "cell_type": "code",
   "execution_count": null,
   "metadata": {},
   "outputs": [],
   "source": []
  },
  {
   "cell_type": "code",
   "execution_count": null,
   "metadata": {},
   "outputs": [],
   "source": []
  },
  {
   "cell_type": "markdown",
   "metadata": {},
   "source": []
  },
  {
   "cell_type": "code",
   "execution_count": null,
   "metadata": {},
   "outputs": [],
   "source": []
  }
 ],
 "metadata": {
  "kernelspec": {
   "display_name": "Python 3",
   "language": "python",
   "name": "python3"
  },
  "language_info": {
   "codemirror_mode": {
    "name": "ipython",
    "version": 3
   },
   "file_extension": ".py",
   "mimetype": "text/x-python",
   "name": "python",
   "nbconvert_exporter": "python",
   "pygments_lexer": "ipython3",
   "version": "3.6.8"
  }
 },
 "nbformat": 4,
 "nbformat_minor": 2
}
