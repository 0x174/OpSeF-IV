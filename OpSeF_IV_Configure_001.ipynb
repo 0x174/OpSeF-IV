{
 "cells": [
  {
   "cell_type": "code",
   "execution_count": 1,
   "metadata": {},
   "outputs": [],
   "source": [
    "import pickle\n",
    "import numpy as np"
   ]
  },
  {
   "cell_type": "code",
   "execution_count": 2,
   "metadata": {},
   "outputs": [],
   "source": [
    "model_dic = {\"CP_nuclei\":\"Cellpose\",\"CP_cyto\":\"Cellpose\",\"SD_2D_dsb2018\":\"StarDist\",\n",
    "            \"UNet_CP001\":\"Cellprofiler_UNet\"}"
   ]
  },
  {
   "cell_type": "code",
   "execution_count": 3,
   "metadata": {},
   "outputs": [],
   "source": [
    "folder_structure = [\"00_InputRaw\",\"01_Input\",\"02_SegMasks\",\"03_SegOverlays\",\"04_BasicQuantification\",\n",
    "                    \"05_AdditionalChannel\",\"06_AdditionalMask\",\"07_ClassifiedSegMasks\",\n",
    "                    \"08_ClassifiedSegOverlays\",\"09_ClassifiedQuantification\",\"10_ImportExport\",\"11_SegMasksFromFiji\"]"
   ]
  },
  {
   "cell_type": "code",
   "execution_count": 4,
   "metadata": {},
   "outputs": [],
   "source": [
    "parameter = [model_dic,folder_structure]"
   ]
  },
  {
   "cell_type": "markdown",
   "metadata": {},
   "source": [
    "## save parameter"
   ]
  },
  {
   "cell_type": "code",
   "execution_count": 5,
   "metadata": {},
   "outputs": [
    {
     "name": "stdout",
     "output_type": "stream",
     "text": [
      "./Demo_Notebooks/my_runs/main_settings.pkl\n"
     ]
    }
   ],
   "source": [
    "file_name = \"./Demo_Notebooks/my_runs/main_settings.pkl\"\n",
    "print(file_name)\n",
    "outfile = open(file_name,'wb')\n",
    "pickle.dump(parameter,outfile)\n",
    "outfile.close()"
   ]
  }
 ],
 "metadata": {
  "kernelspec": {
   "display_name": "Python 3",
   "language": "python",
   "name": "python3"
  },
  "language_info": {
   "codemirror_mode": {
    "name": "ipython",
    "version": 3
   },
   "file_extension": ".py",
   "mimetype": "text/x-python",
   "name": "python",
   "nbconvert_exporter": "python",
   "pygments_lexer": "ipython3",
   "version": "3.6.8"
  }
 },
 "nbformat": 4,
 "nbformat_minor": 2
}
