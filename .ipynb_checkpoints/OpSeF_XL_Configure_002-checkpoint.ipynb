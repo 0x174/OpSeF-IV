{
 "cells": [
  {
   "cell_type": "code",
   "execution_count": 1,
   "metadata": {},
   "outputs": [],
   "source": [
    "import pickle\n",
    "import numpy as np"
   ]
  },
  {
   "cell_type": "code",
   "execution_count": 2,
   "metadata": {},
   "outputs": [],
   "source": [
    "import imageio\n",
    "import imgaug as ia\n",
    "import imgaug.augmenters as iaa"
   ]
  },
  {
   "cell_type": "code",
   "execution_count": 3,
   "metadata": {},
   "outputs": [],
   "source": [
    "model_dic = {\"CP_nuclei\":\"Cellpose\",\"CP_cyto\":\"Cellpose\",\n",
    "             \"SD_2D_dsb2018\":\"StarDist\",\"SD_dsb_versatile\":\"StarDist\",\"SD_patho\":\"StarDist\",\n",
    "            \"UNet_CP001\":\"Cellprofiler_UNet\"}"
   ]
  },
  {
   "cell_type": "code",
   "execution_count": 4,
   "metadata": {},
   "outputs": [],
   "source": [
    "folder_structure = [\"00_InputRaw\",\"01_Input\",\"02_SegMasks\",\"03_SegOverlays\",\"04_BasicQuantification\",\n",
    "                    \"05_AdditionalChannel\",\"06_AdditionalMask\",\"07_ClassifiedSegMasks\",\n",
    "                    \"08_ClassifiedSegOverlays\",\"09_ClassifiedQuantification\",\"10_ImportExport\"]"
   ]
  },
  {
   "cell_type": "code",
   "execution_count": 5,
   "metadata": {},
   "outputs": [],
   "source": [
    "# define here basic pipelines for augmentation\n",
    "# see documentation in\n",
    "# https://github.com/aleju/imgaug-doc/blob/master/index.rst"
   ]
  },
  {
   "cell_type": "code",
   "execution_count": 6,
   "metadata": {},
   "outputs": [],
   "source": [
    "aug_set = {}"
   ]
  },
  {
   "cell_type": "code",
   "execution_count": 7,
   "metadata": {},
   "outputs": [],
   "source": [
    "aug_set[0] = iaa.Sequential([\n",
    "    iaa.Fliplr(1.0),                   # flip image\n",
    "    iaa.Flipud(1.0),                   # flip image \n",
    "    ], random_order=True)"
   ]
  },
  {
   "cell_type": "code",
   "execution_count": 8,
   "metadata": {},
   "outputs": [],
   "source": [
    "aug_set[1] = iaa.Sequential([\n",
    "    iaa.Dropout([0.005, 0.02]),      # drop btween 0.5% and 2% of all pixels\n",
    "    iaa.Sharpen((0.0, 1.0)),        # sharpen the image\n",
    "    iaa.Fliplr(1.0),                   # flip image \n",
    "    iaa.ElasticTransformation(alpha=10, sigma=2)  # apply water effect (affects segmaps)\n",
    "    ], random_order=True)"
   ]
  },
  {
   "cell_type": "code",
   "execution_count": 9,
   "metadata": {},
   "outputs": [],
   "source": [
    "aug_set[2] = iaa.Sequential([\n",
    "    iaa.Dropout([0.005, 0.02]),      # drop btween 0.5% and 2% of all pixels\n",
    "    iaa.Sharpen((0.0, 1.0)),        # sharpen the image\n",
    "    iaa.Flipud(1.0),                   # flip image \n",
    "    iaa.ElasticTransformation(alpha=50, sigma=5)  # apply water effect (affects segmaps)\n",
    "    ], random_order=True)"
   ]
  },
  {
   "cell_type": "code",
   "execution_count": 10,
   "metadata": {},
   "outputs": [],
   "source": [
    "aug_set[3] = iaa.Sequential([\n",
    "    iaa.Dropout([0.005, 0.02]),      # drop btween 0.5% and 2% of all pixels\n",
    "    iaa.GaussianBlur((0.0, 2.0)),    # blur the image\n",
    "    iaa.ElasticTransformation(alpha=20, sigma=3)  # apply water effect (affects segmaps)\n",
    "    ], random_order=True)"
   ]
  },
  {
   "cell_type": "code",
   "execution_count": 11,
   "metadata": {},
   "outputs": [],
   "source": [
    "aug_set[4] = iaa.Sequential([\n",
    "    iaa.GaussianBlur((0.0, 2.0)),     # blur the image\n",
    "    iaa.GammaContrast((0.5, 2.0)),    # adjust gamma\n",
    "    iaa.Fliplr(1.0),                   # flip image \n",
    "    iaa.ElasticTransformation(alpha=20, sigma=3)  # apply water effect (affects segmaps)\n",
    "    ], random_order=True)"
   ]
  },
  {
   "cell_type": "code",
   "execution_count": 12,
   "metadata": {},
   "outputs": [],
   "source": [
    "aug_set[5] = iaa.Sequential([\n",
    "    iaa.GaussianBlur((0.0, 2.0)),    # blur the image\n",
    "    iaa.GammaContrast((0.5, 2.0)),   # blur the image\n",
    "    iaa.Flipud(1.0),                   # flip image \n",
    "    iaa.ScaleX((1.0,1.5))            # scale in x (affects segmaps)\n",
    "    ], random_order=True)"
   ]
  },
  {
   "cell_type": "code",
   "execution_count": 13,
   "metadata": {},
   "outputs": [],
   "source": [
    "aug_set[6] = iaa.Sequential([\n",
    "    iaa.GaussianBlur((0.0, 2.0)),    # blur the image\n",
    "    iaa.GammaContrast((0.5, 2.0)),   # adjust gamma\n",
    "    iaa.Fliplr(1.0),                # flip image \n",
    "    iaa.ScaleX((1.0,1.5)),           # scale in x (affects segmaps)\n",
    "    iaa.ScaleY((1.0,1.5))            # scale in y (affects segmaps)\n",
    "    ], random_order=True)"
   ]
  },
  {
   "cell_type": "code",
   "execution_count": 14,
   "metadata": {},
   "outputs": [],
   "source": [
    "aug_set[7] = iaa.Sequential([\n",
    "    iaa.imgcorruptlike.SpeckleNoise(severity = 1),   # adds speckle noise\n",
    "    iaa.GaussianBlur((0.0, 2.0)),    # blur the image\n",
    "    iaa.GammaContrast((0.5, 2.0)),   # blur the image\n",
    "    iaa.ScaleX((1.0,1.5)),           # scale in x (affects segmaps)\n",
    "    iaa.ScaleY((1.0,1.5))            # scale in y (affects segmaps) \n",
    "    ], random_order=True)"
   ]
  },
  {
   "cell_type": "code",
   "execution_count": 15,
   "metadata": {},
   "outputs": [],
   "source": [
    "aug_set[8] = iaa.Sequential([\n",
    "    iaa.Dropout([0.005, 0.02]),      # drop btween 0.5% and 2% of all pixels\n",
    "    iaa.GaussianBlur((0.0, 2.0)),    # blur the image\n",
    "    ], random_order=True)"
   ]
  },
  {
   "cell_type": "code",
   "execution_count": 21,
   "metadata": {},
   "outputs": [],
   "source": [
    "aug_set[9] = iaa.Sequential([\n",
    "    iaa.GammaContrast((0.8,1.5)),   # blur the image\n",
    "    iaa.ScaleX((1.0,1.5)),           # scale in x (affects segmaps)\n",
    "    iaa.ScaleY((1.0,1.5))            # scale in y (affects segmaps) \n",
    "    ], random_order=True)"
   ]
  },
  {
   "cell_type": "code",
   "execution_count": 16,
   "metadata": {},
   "outputs": [],
   "source": [
    "aug_set[10] = iaa.Sequential([\n",
    "    iaa.GammaContrast((0.8,1.5)),   # blur the image\n",
    "    iaa.ScaleX((1.0,1.5)),           # scale in x (affects segmaps)\n",
    "    iaa.ScaleY((1.0,1.5)),            # scale in y (affects segmaps)\n",
    "    iaa.Fliplr(1.0),  \n",
    "    ], random_order=True)"
   ]
  },
  {
   "cell_type": "code",
   "execution_count": 17,
   "metadata": {},
   "outputs": [],
   "source": [
    "aug_set[11] = iaa.Sequential([\n",
    "    iaa.Fliplr(1.0),                   # flip image\n",
    "    iaa.Flipud(1.0),                   # flip image \n",
    "    ], random_order=True)"
   ]
  },
  {
   "cell_type": "code",
   "execution_count": 18,
   "metadata": {},
   "outputs": [],
   "source": [
    "aug_set[12] = iaa.Sequential([\n",
    "    iaa.Dropout([0.005, 0.05]),      # drop btween 0.5% and 5% of all pixels\n",
    "    iaa.GammaContrast((0.3, 2.5)),    # adjust gamma\n",
    "    iaa.Sharpen((0.0, 1.0)),        # sharpen the image\n",
    "    iaa.Flipud(1.0),                   # flip image \n",
    "    iaa.ElasticTransformation(alpha=50, sigma=5)  # apply water effect (affects segmaps)\n",
    "    ], random_order=True)"
   ]
  },
  {
   "cell_type": "code",
   "execution_count": 20,
   "metadata": {},
   "outputs": [],
   "source": [
    "aug_set[13] = iaa.Sequential([\n",
    "    iaa.Dropout([0.005, 0.05]),      # drop btween 0.5% and 2% of all pixels\n",
    "    iaa.GaussianBlur((0.0, 3.0)),    # blur the image\n",
    "    iaa.ElasticTransformation(alpha=20, sigma=3)  # apply water effect (affects segmaps)\n",
    "    ], random_order=True)"
   ]
  },
  {
   "cell_type": "code",
   "execution_count": 24,
   "metadata": {},
   "outputs": [],
   "source": [
    "aug_set[14] = iaa.Sequential([\n",
    "    iaa.imgcorruptlike.SpeckleNoise(severity = 2),   # adds speckle noise\n",
    "    iaa.GaussianBlur((0.0, 3)),    # blur the image\n",
    "    iaa.GammaContrast((0.5, 3.0)),   # adjust gamma\n",
    "    iaa.ScaleX((1.0,2.0)),           # scale in x (affects segmaps)\n",
    "    iaa.ScaleY((1.0,2.0))            # scale in y (affects segmaps) \n",
    "    ], random_order=True)"
   ]
  },
  {
   "cell_type": "code",
   "execution_count": 25,
   "metadata": {},
   "outputs": [],
   "source": [
    "aug_set[15] = iaa.Sequential([\n",
    "    iaa.Dropout([0.005, 0.05]),      # drop btween 0.5% and 5% of all pixels\n",
    "    iaa.GammaContrast((0.3, 2.5)),    # adjust gamma\n",
    "    iaa.Sharpen((0.0, 1.0)),        # sharpen the image\n",
    "    iaa.imgcorruptlike.Fog((1,3)),\n",
    "    iaa.Flipud(1.0),                   # flip image \n",
    "    iaa.ElasticTransformation(alpha=50, sigma=5)  # apply water effect (affects segmaps)\n",
    "    ], random_order=True)"
   ]
  },
  {
   "cell_type": "code",
   "execution_count": 26,
   "metadata": {},
   "outputs": [],
   "source": [
    "aug_set[16] = iaa.Sequential([\n",
    "    iaa.Dropout([0.005, 0.05]),      # drop btween 0.5% and 5% of all pixels\n",
    "    iaa.GammaContrast((0.3, 2.5)),    # adjust gamma\n",
    "    iaa.Sharpen((0.0, 1.0)),        # sharpen the image\n",
    "    iaa.imgcorruptlike.JpegCompression((1,3)),\n",
    "    iaa.Flipud(1.0),                   # flip image \n",
    "    iaa.ElasticTransformation(alpha=50, sigma=5)  # apply water effect (affects segmaps)\n",
    "    ], random_order=True)"
   ]
  },
  {
   "cell_type": "code",
   "execution_count": 22,
   "metadata": {},
   "outputs": [],
   "source": [
    "aug_set[17] = iaa.Sequential([\n",
    "    iaa.Dropout([0.005, 0.05]),      # drop btween 0.5% and 2% of all pixels\n",
    "    iaa.GaussianBlur((0.0, 3.0)),    # blur the image\n",
    "    iaa.imgcorruptlike.ZoomBlur((1)),\n",
    "    iaa.ElasticTransformation(alpha=20, sigma=3)  # apply water effect (affects segmaps)\n",
    "    ], random_order=True)"
   ]
  },
  {
   "cell_type": "code",
   "execution_count": 27,
   "metadata": {},
   "outputs": [],
   "source": [
    "# here we build out of the basic pipelines entire sets that can easily be used"
   ]
  },
  {
   "cell_type": "code",
   "execution_count": 28,
   "metadata": {},
   "outputs": [],
   "source": [
    "pre_defined_pipelines = {}"
   ]
  },
  {
   "cell_type": "code",
   "execution_count": 29,
   "metadata": {},
   "outputs": [],
   "source": [
    "pre_defined_pipelines[\"Basic_Nuc\"] = list(range(0,8))"
   ]
  },
  {
   "cell_type": "code",
   "execution_count": 30,
   "metadata": {},
   "outputs": [],
   "source": [
    "pre_defined_pipelines[\"Light_Nuc\"] = [0] + list(range(9,12))"
   ]
  },
  {
   "cell_type": "code",
   "execution_count": 31,
   "metadata": {},
   "outputs": [],
   "source": [
    "pre_defined_pipelines[\"Heavy_Nuc\"] = list(range(1,8)) + list(range(12,18))"
   ]
  },
  {
   "cell_type": "code",
   "execution_count": 32,
   "metadata": {},
   "outputs": [],
   "source": [
    "pre_defined_pipelines[\"Versatile_Nuc\"] = list(range(0,18))"
   ]
  },
  {
   "cell_type": "code",
   "execution_count": 33,
   "metadata": {},
   "outputs": [
    {
     "name": "stdout",
     "output_type": "stream",
     "text": [
      "{'Basic_Nuc': [0, 1, 2, 3, 4, 5, 6, 7], 'Light_Nuc': [0, 9, 10, 11], 'Heavy_Nuc': [1, 2, 3, 4, 5, 6, 7, 12, 13, 14, 15, 16, 17], 'Versatile_Nuc': [0, 1, 2, 3, 4, 5, 6, 7, 8, 9, 10, 11, 12, 13, 14, 15, 16, 17]}\n"
     ]
    }
   ],
   "source": [
    "print(pre_defined_pipelines)"
   ]
  },
  {
   "cell_type": "code",
   "execution_count": 34,
   "metadata": {},
   "outputs": [],
   "source": [
    "parameter_main = [model_dic,folder_structure]\n",
    "parameter_augment = [aug_set,pre_defined_pipelines]"
   ]
  },
  {
   "cell_type": "code",
   "execution_count": 35,
   "metadata": {},
   "outputs": [
    {
     "name": "stdout",
     "output_type": "stream",
     "text": [
      "{0: Sequential(name=UnnamedSequential, random_order=True, children=[Fliplr(name=UnnamedFliplr, parameters=[Deterministic(int 1)], deterministic=False), Flipud(name=UnnamedFlipud, parameters=[Deterministic(int 1)], deterministic=False)], deterministic=False), 1: Sequential(name=UnnamedSequential, random_order=True, children=[Dropout(name=UnnamedDropout, parameters=[Binomial(Subtract(Deterministic(int 1), Choice(a=[0.005, 0.02], replace=True, p=None), False)), Deterministic(int 0)], deterministic=False), Sharpen(name=UnnamedSharpen, parameters=[<imgaug.augmenters.convolutional._SharpeningMatrixGenerator object at 0x7faa24e9de10>, function], deterministic=False), Fliplr(name=UnnamedFliplr, parameters=[Deterministic(int 1)], deterministic=False), ElasticTransformation(name=UnnamedElasticTransformation, parameters=[Deterministic(int 10), Deterministic(int 2), Deterministic(int 3), Deterministic(int 0), Deterministic(constant)], deterministic=False)], deterministic=False), 2: Sequential(name=UnnamedSequential, random_order=True, children=[Dropout(name=UnnamedDropout, parameters=[Binomial(Subtract(Deterministic(int 1), Choice(a=[0.005, 0.02], replace=True, p=None), False)), Deterministic(int 0)], deterministic=False), Sharpen(name=UnnamedSharpen, parameters=[<imgaug.augmenters.convolutional._SharpeningMatrixGenerator object at 0x7faa24e3b4a8>, function], deterministic=False), Flipud(name=UnnamedFlipud, parameters=[Deterministic(int 1)], deterministic=False), ElasticTransformation(name=UnnamedElasticTransformation, parameters=[Deterministic(int 50), Deterministic(int 5), Deterministic(int 3), Deterministic(int 0), Deterministic(constant)], deterministic=False)], deterministic=False), 3: Sequential(name=UnnamedSequential, random_order=True, children=[Dropout(name=UnnamedDropout, parameters=[Binomial(Subtract(Deterministic(int 1), Choice(a=[0.005, 0.02], replace=True, p=None), False)), Deterministic(int 0)], deterministic=False), GaussianBlur(name=UnnamedGaussianBlur, parameters=[Uniform(Deterministic(float 0.00000000), Deterministic(float 2.00000000))], deterministic=False), ElasticTransformation(name=UnnamedElasticTransformation, parameters=[Deterministic(int 20), Deterministic(int 3), Deterministic(int 3), Deterministic(int 0), Deterministic(constant)], deterministic=False)], deterministic=False), 4: Sequential(name=UnnamedSequential, random_order=True, children=[GaussianBlur(name=UnnamedGaussianBlur, parameters=[Uniform(Deterministic(float 0.00000000), Deterministic(float 2.00000000))], deterministic=False), GammaContrast(name=UnnamedGammaContrast, parameters=[Uniform(Deterministic(float 0.50000000), Deterministic(float 2.00000000))], deterministic=False), Fliplr(name=UnnamedFliplr, parameters=[Deterministic(int 1)], deterministic=False), ElasticTransformation(name=UnnamedElasticTransformation, parameters=[Deterministic(int 20), Deterministic(int 3), Deterministic(int 3), Deterministic(int 0), Deterministic(constant)], deterministic=False)], deterministic=False), 5: Sequential(name=UnnamedSequential, random_order=True, children=[GaussianBlur(name=UnnamedGaussianBlur, parameters=[Uniform(Deterministic(float 0.00000000), Deterministic(float 2.00000000))], deterministic=False), GammaContrast(name=UnnamedGammaContrast, parameters=[Uniform(Deterministic(float 0.50000000), Deterministic(float 2.00000000))], deterministic=False), Flipud(name=UnnamedFlipud, parameters=[Deterministic(int 1)], deterministic=False), ScaleX(name=UnnamedScaleX, parameters=[(Uniform(Deterministic(float 1.00000000), Deterministic(float 1.50000000)), Deterministic(float 1.00000000)), (Deterministic(int 0), None, 'px'), Deterministic(float 0.00000000), Deterministic(float 0.00000000), Deterministic(int 1), Deterministic(int 0), Deterministic(constant), auto, False], deterministic=False)], deterministic=False), 6: Sequential(name=UnnamedSequential, random_order=True, children=[GaussianBlur(name=UnnamedGaussianBlur, parameters=[Uniform(Deterministic(float 0.00000000), Deterministic(float 2.00000000))], deterministic=False), GammaContrast(name=UnnamedGammaContrast, parameters=[Uniform(Deterministic(float 0.50000000), Deterministic(float 2.00000000))], deterministic=False), Fliplr(name=UnnamedFliplr, parameters=[Deterministic(int 1)], deterministic=False), ScaleX(name=UnnamedScaleX, parameters=[(Uniform(Deterministic(float 1.00000000), Deterministic(float 1.50000000)), Deterministic(float 1.00000000)), (Deterministic(int 0), None, 'px'), Deterministic(float 0.00000000), Deterministic(float 0.00000000), Deterministic(int 1), Deterministic(int 0), Deterministic(constant), auto, False], deterministic=False), ScaleY(name=UnnamedScaleY, parameters=[(Deterministic(float 1.00000000), Uniform(Deterministic(float 1.00000000), Deterministic(float 1.50000000))), (Deterministic(int 0), None, 'px'), Deterministic(float 0.00000000), Deterministic(float 0.00000000), Deterministic(int 1), Deterministic(int 0), Deterministic(constant), auto, False], deterministic=False)], deterministic=False), 7: Sequential(name=UnnamedSequential, random_order=True, children=[SpeckleNoise(name=UnnamedSpeckleNoise, parameters=[Deterministic(int 1)], deterministic=False), GaussianBlur(name=UnnamedGaussianBlur, parameters=[Uniform(Deterministic(float 0.00000000), Deterministic(float 2.00000000))], deterministic=False), GammaContrast(name=UnnamedGammaContrast, parameters=[Uniform(Deterministic(float 0.50000000), Deterministic(float 2.00000000))], deterministic=False), ScaleX(name=UnnamedScaleX, parameters=[(Uniform(Deterministic(float 1.00000000), Deterministic(float 1.50000000)), Deterministic(float 1.00000000)), (Deterministic(int 0), None, 'px'), Deterministic(float 0.00000000), Deterministic(float 0.00000000), Deterministic(int 1), Deterministic(int 0), Deterministic(constant), auto, False], deterministic=False), ScaleY(name=UnnamedScaleY, parameters=[(Deterministic(float 1.00000000), Uniform(Deterministic(float 1.00000000), Deterministic(float 1.50000000))), (Deterministic(int 0), None, 'px'), Deterministic(float 0.00000000), Deterministic(float 0.00000000), Deterministic(int 1), Deterministic(int 0), Deterministic(constant), auto, False], deterministic=False)], deterministic=False), 8: Sequential(name=UnnamedSequential, random_order=True, children=[Dropout(name=UnnamedDropout, parameters=[Binomial(Subtract(Deterministic(int 1), Choice(a=[0.005, 0.02], replace=True, p=None), False)), Deterministic(int 0)], deterministic=False), GaussianBlur(name=UnnamedGaussianBlur, parameters=[Uniform(Deterministic(float 0.00000000), Deterministic(float 2.00000000))], deterministic=False)], deterministic=False), 10: Sequential(name=UnnamedSequential, random_order=True, children=[GammaContrast(name=UnnamedGammaContrast, parameters=[Uniform(Deterministic(float 0.80000000), Deterministic(float 1.50000000))], deterministic=False), ScaleX(name=UnnamedScaleX, parameters=[(Uniform(Deterministic(float 1.00000000), Deterministic(float 1.50000000)), Deterministic(float 1.00000000)), (Deterministic(int 0), None, 'px'), Deterministic(float 0.00000000), Deterministic(float 0.00000000), Deterministic(int 1), Deterministic(int 0), Deterministic(constant), auto, False], deterministic=False), ScaleY(name=UnnamedScaleY, parameters=[(Deterministic(float 1.00000000), Uniform(Deterministic(float 1.00000000), Deterministic(float 1.50000000))), (Deterministic(int 0), None, 'px'), Deterministic(float 0.00000000), Deterministic(float 0.00000000), Deterministic(int 1), Deterministic(int 0), Deterministic(constant), auto, False], deterministic=False), Fliplr(name=UnnamedFliplr, parameters=[Deterministic(int 1)], deterministic=False)], deterministic=False), 11: Sequential(name=UnnamedSequential, random_order=True, children=[Fliplr(name=UnnamedFliplr, parameters=[Deterministic(int 1)], deterministic=False), Flipud(name=UnnamedFlipud, parameters=[Deterministic(int 1)], deterministic=False)], deterministic=False), 12: Sequential(name=UnnamedSequential, random_order=True, children=[Dropout(name=UnnamedDropout, parameters=[Binomial(Subtract(Deterministic(int 1), Choice(a=[0.005, 0.05], replace=True, p=None), False)), Deterministic(int 0)], deterministic=False), GammaContrast(name=UnnamedGammaContrast, parameters=[Uniform(Deterministic(float 0.30000000), Deterministic(float 2.50000000))], deterministic=False), Sharpen(name=UnnamedSharpen, parameters=[<imgaug.augmenters.convolutional._SharpeningMatrixGenerator object at 0x7faa24e555f8>, function], deterministic=False), Flipud(name=UnnamedFlipud, parameters=[Deterministic(int 1)], deterministic=False), ElasticTransformation(name=UnnamedElasticTransformation, parameters=[Deterministic(int 50), Deterministic(int 5), Deterministic(int 3), Deterministic(int 0), Deterministic(constant)], deterministic=False)], deterministic=False), 13: Sequential(name=UnnamedSequential, random_order=True, children=[Dropout(name=UnnamedDropout, parameters=[Binomial(Subtract(Deterministic(int 1), Choice(a=[0.005, 0.05], replace=True, p=None), False)), Deterministic(int 0)], deterministic=False), GaussianBlur(name=UnnamedGaussianBlur, parameters=[Uniform(Deterministic(float 0.00000000), Deterministic(float 3.00000000))], deterministic=False), ElasticTransformation(name=UnnamedElasticTransformation, parameters=[Deterministic(int 20), Deterministic(int 3), Deterministic(int 3), Deterministic(int 0), Deterministic(constant)], deterministic=False)], deterministic=False), 9: Sequential(name=UnnamedSequential, random_order=True, children=[GammaContrast(name=UnnamedGammaContrast, parameters=[Uniform(Deterministic(float 0.80000000), Deterministic(float 1.50000000))], deterministic=False), ScaleX(name=UnnamedScaleX, parameters=[(Uniform(Deterministic(float 1.00000000), Deterministic(float 1.50000000)), Deterministic(float 1.00000000)), (Deterministic(int 0), None, 'px'), Deterministic(float 0.00000000), Deterministic(float 0.00000000), Deterministic(int 1), Deterministic(int 0), Deterministic(constant), auto, False], deterministic=False), ScaleY(name=UnnamedScaleY, parameters=[(Deterministic(float 1.00000000), Uniform(Deterministic(float 1.00000000), Deterministic(float 1.50000000))), (Deterministic(int 0), None, 'px'), Deterministic(float 0.00000000), Deterministic(float 0.00000000), Deterministic(int 1), Deterministic(int 0), Deterministic(constant), auto, False], deterministic=False)], deterministic=False), 17: Sequential(name=UnnamedSequential, random_order=True, children=[Dropout(name=UnnamedDropout, parameters=[Binomial(Subtract(Deterministic(int 1), Choice(a=[0.005, 0.05], replace=True, p=None), False)), Deterministic(int 0)], deterministic=False), GaussianBlur(name=UnnamedGaussianBlur, parameters=[Uniform(Deterministic(float 0.00000000), Deterministic(float 3.00000000))], deterministic=False), ZoomBlur(name=UnnamedZoomBlur, parameters=[Deterministic(int 1)], deterministic=False), ElasticTransformation(name=UnnamedElasticTransformation, parameters=[Deterministic(int 20), Deterministic(int 3), Deterministic(int 3), Deterministic(int 0), Deterministic(constant)], deterministic=False)], deterministic=False), 14: Sequential(name=UnnamedSequential, random_order=True, children=[SpeckleNoise(name=UnnamedSpeckleNoise, parameters=[Deterministic(int 2)], deterministic=False), GaussianBlur(name=UnnamedGaussianBlur, parameters=[Uniform(Deterministic(float 0.00000000), Deterministic(int 3))], deterministic=False), GammaContrast(name=UnnamedGammaContrast, parameters=[Uniform(Deterministic(float 0.50000000), Deterministic(float 3.00000000))], deterministic=False), ScaleX(name=UnnamedScaleX, parameters=[(Uniform(Deterministic(float 1.00000000), Deterministic(float 2.00000000)), Deterministic(float 1.00000000)), (Deterministic(int 0), None, 'px'), Deterministic(float 0.00000000), Deterministic(float 0.00000000), Deterministic(int 1), Deterministic(int 0), Deterministic(constant), auto, False], deterministic=False), ScaleY(name=UnnamedScaleY, parameters=[(Deterministic(float 1.00000000), Uniform(Deterministic(float 1.00000000), Deterministic(float 2.00000000))), (Deterministic(int 0), None, 'px'), Deterministic(float 0.00000000), Deterministic(float 0.00000000), Deterministic(int 1), Deterministic(int 0), Deterministic(constant), auto, False], deterministic=False)], deterministic=False), 15: Sequential(name=UnnamedSequential, random_order=True, children=[Dropout(name=UnnamedDropout, parameters=[Binomial(Subtract(Deterministic(int 1), Choice(a=[0.005, 0.05], replace=True, p=None), False)), Deterministic(int 0)], deterministic=False), GammaContrast(name=UnnamedGammaContrast, parameters=[Uniform(Deterministic(float 0.30000000), Deterministic(float 2.50000000))], deterministic=False), Sharpen(name=UnnamedSharpen, parameters=[<imgaug.augmenters.convolutional._SharpeningMatrixGenerator object at 0x7faa24e5de10>, function], deterministic=False), Fog(name=UnnamedFog, parameters=[DiscreteUniform(Deterministic(int 1), Deterministic(int 3))], deterministic=False), Flipud(name=UnnamedFlipud, parameters=[Deterministic(int 1)], deterministic=False), ElasticTransformation(name=UnnamedElasticTransformation, parameters=[Deterministic(int 50), Deterministic(int 5), Deterministic(int 3), Deterministic(int 0), Deterministic(constant)], deterministic=False)], deterministic=False), 16: Sequential(name=UnnamedSequential, random_order=True, children=[Dropout(name=UnnamedDropout, parameters=[Binomial(Subtract(Deterministic(int 1), Choice(a=[0.005, 0.05], replace=True, p=None), False)), Deterministic(int 0)], deterministic=False), GammaContrast(name=UnnamedGammaContrast, parameters=[Uniform(Deterministic(float 0.30000000), Deterministic(float 2.50000000))], deterministic=False), Sharpen(name=UnnamedSharpen, parameters=[<imgaug.augmenters.convolutional._SharpeningMatrixGenerator object at 0x7faa24e4a7b8>, function], deterministic=False), JpegCompression(name=UnnamedJpegCompression, parameters=[DiscreteUniform(Deterministic(int 1), Deterministic(int 3))], deterministic=False), Flipud(name=UnnamedFlipud, parameters=[Deterministic(int 1)], deterministic=False), ElasticTransformation(name=UnnamedElasticTransformation, parameters=[Deterministic(int 50), Deterministic(int 5), Deterministic(int 3), Deterministic(int 0), Deterministic(constant)], deterministic=False)], deterministic=False)}\n"
     ]
    }
   ],
   "source": [
    "print(aug_set)"
   ]
  },
  {
   "cell_type": "markdown",
   "metadata": {},
   "source": [
    "## save parameter"
   ]
  },
  {
   "cell_type": "code",
   "execution_count": 36,
   "metadata": {},
   "outputs": [
    {
     "name": "stdout",
     "output_type": "stream",
     "text": [
      "Saving main parameter to.. ./Demo_Notebooks/my_runs/main_settings_xl.pkl\n",
      "Saving augment config parameter to.. ./Train/Augment/my_runs/augment_settings_xl.pkl\n"
     ]
    }
   ],
   "source": [
    "file_name_main = \"./Demo_Notebooks/my_runs/main_settings_xl.pkl\"\n",
    "print(\"Saving main parameter to..\",file_name_main)\n",
    "outfile_main = open(file_name_main,'wb')\n",
    "pickle.dump(parameter_main,outfile_main)\n",
    "outfile_main.close()\n",
    "\n",
    "file_name_augment = \"./Train/Augment/my_runs/augment_settings_xl.pkl\"\n",
    "print(\"Saving augment config parameter to..\",file_name_augment)\n",
    "outfile_aug = open(file_name_augment,'wb')\n",
    "pickle.dump(parameter_augment,outfile_aug)\n",
    "outfile_aug.close()\n",
    "\n"
   ]
  },
  {
   "cell_type": "code",
   "execution_count": null,
   "metadata": {},
   "outputs": [],
   "source": []
  },
  {
   "cell_type": "code",
   "execution_count": null,
   "metadata": {},
   "outputs": [],
   "source": []
  }
 ],
 "metadata": {
  "kernelspec": {
   "display_name": "Python 3",
   "language": "python",
   "name": "python3"
  },
  "language_info": {
   "codemirror_mode": {
    "name": "ipython",
    "version": 3
   },
   "file_extension": ".py",
   "mimetype": "text/x-python",
   "name": "python",
   "nbconvert_exporter": "python",
   "pygments_lexer": "ipython3",
   "version": "3.6.8"
  }
 },
 "nbformat": 4,
 "nbformat_minor": 2
}
