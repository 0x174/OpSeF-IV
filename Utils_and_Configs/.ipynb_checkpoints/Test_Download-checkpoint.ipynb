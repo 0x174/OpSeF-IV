{
 "cells": [
  {
   "cell_type": "code",
   "execution_count": 1,
   "metadata": {},
   "outputs": [],
   "source": [
    "import requests\n",
    "from zipfile import ZipFile\n",
    "import os"
   ]
  },
  {
   "cell_type": "markdown",
   "metadata": {},
   "source": [
    "## Functions"
   ]
  },
  {
   "cell_type": "code",
   "execution_count": 2,
   "metadata": {},
   "outputs": [],
   "source": [
    "def extract_filename_from_url(url):\n",
    "    # does not work for owncloud\n",
    "    try:\n",
    "        end = url[url.rfind('/')+1:]\n",
    "        filename = end[:end.find('?')]\n",
    "        return filename\n",
    "    except: \n",
    "        return None"
   ]
  },
  {
   "cell_type": "code",
   "execution_count": 3,
   "metadata": {},
   "outputs": [],
   "source": [
    "def download_from_owncloud(url, outfile=None):\n",
    "    url = url.replace('?dl=0', '')\n",
    "    url = url.replace('?dl=1', '')\n",
    "    if not '?raw=1' in url:\n",
    "        url += \"?raw=1\"\n",
    "    r = requests.get(url, allow_redirects=True)\n",
    "    if not outfile:\n",
    "        outfile = extract_filename_from_url(url)\n",
    "    if outfile:\n",
    "        print(\"Downloading...\",outfile)\n",
    "        open(outfile, 'wb').write(r.content)\n",
    "    return"
   ]
  },
  {
   "cell_type": "code",
   "execution_count": 4,
   "metadata": {},
   "outputs": [],
   "source": [
    "def unzip_file(outfile):\n",
    "    # unzips downloaded file\n",
    "    #targetdir = os.path.join(os.path.split(outfile)[0],os.path.split(outfile)[1].replace(\".zip\",\"\"))\n",
    "    targetdir = os.path.join(os.path.split(outfile)[0])\n",
    "    with ZipFile(outfile,'r') as zip_file:\n",
    "        print(' extracting to',targetdir)\n",
    "        zip_file.extractall(str(targetdir))\n",
    "        provided = zip_file.namelist()\n",
    "    print(\"Done\")\n",
    "    return"
   ]
  },
  {
   "cell_type": "code",
   "execution_count": null,
   "metadata": {},
   "outputs": [],
   "source": []
  },
  {
   "cell_type": "markdown",
   "metadata": {},
   "source": [
    "## Main code"
   ]
  },
  {
   "cell_type": "code",
   "execution_count": 5,
   "metadata": {},
   "outputs": [],
   "source": [
    "# do no change!\n",
    "# list of all avaiable datasets for download\n",
    "Datasets_Download = {}\n",
    "Datasets_Download[\"DSB2018_FL_Nuc_Subset\"] = \"https://owncloud.gwdg.de/index.php/s/mwsVjJKCZMzJjsJ/download\""
   ]
  },
  {
   "cell_type": "code",
   "execution_count": 6,
   "metadata": {},
   "outputs": [],
   "source": [
    "load_me = \"DSB2018_FL_Nuc_Subset\" # define which datset to load\n",
    "main_root = \"X:\\SampleDataML\\OpSeF_Data\" # target dir\n",
    "keep_zip = False # keep zip file afterwards?"
   ]
  },
  {
   "cell_type": "code",
   "execution_count": 7,
   "metadata": {},
   "outputs": [
    {
     "name": "stdout",
     "output_type": "stream",
     "text": [
      "Downloading... X:\\SampleDataML\\OpSeF_Data\\GT\\DSB2018_FL_Nuc_Subset.zip\n",
      " extracting to X:\\SampleDataML\\OpSeF_Data\\GT\n",
      "Done\n",
      "Deleting.. X:\\SampleDataML\\OpSeF_Data\\GT\\DSB2018_FL_Nuc_Subset.zip\n"
     ]
    }
   ],
   "source": [
    "# define url\n",
    "url = Datasets_Download[load_me]\n",
    "# make folder\n",
    "new_folder = os.path.join(main_root,\"GT\")\n",
    "if not os.path.exists('my_folder'):\n",
    "    os.makedirs('my_folder')\n",
    "# download\n",
    "outfile = os.path.join(new_folder,\"{}.zip\".format(load_me))\n",
    "download_from_owncloud(url,outfile)\n",
    "# unzip\n",
    "unzip_file(outfile)\n",
    "# cleanup\n",
    "if not keep_zip:\n",
    "    print(\"Deleting..\",outfile)\n",
    "    os.remove(outfile)"
   ]
  }
 ],
 "metadata": {
  "kernelspec": {
   "display_name": "Python 3",
   "language": "python",
   "name": "python3"
  },
  "language_info": {
   "codemirror_mode": {
    "name": "ipython",
    "version": 3
   },
   "file_extension": ".py",
   "mimetype": "text/x-python",
   "name": "python",
   "nbconvert_exporter": "python",
   "pygments_lexer": "ipython3",
   "version": "3.6.8"
  }
 },
 "nbformat": 4,
 "nbformat_minor": 2
}
